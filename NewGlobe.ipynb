{
  "nbformat": 4,
  "nbformat_minor": 0,
  "metadata": {
    "colab": {
      "provenance": []
    },
    "kernelspec": {
      "name": "ir",
      "display_name": "R"
    },
    "language_info": {
      "name": "R"
    }
  },
  "cells": [
    {
      "cell_type": "markdown",
      "source": [
        "<h2> Step 1 : Loading Dependencies </h2>"
      ],
      "metadata": {
        "id": "StAytHrCk97B"
      }
    },
    {
      "cell_type": "code",
      "execution_count": null,
      "metadata": {
        "id": "Uc1iOoRDYQwH",
        "colab": {
          "base_uri": "https://localhost:8080/"
        },
        "outputId": "51f16a29-12fc-40fa-895f-02df0676d7a3"
      },
      "outputs": [
        {
          "output_type": "stream",
          "name": "stderr",
          "text": [
            "\n",
            "Attaching package: ‘dplyr’\n",
            "\n",
            "\n",
            "The following objects are masked from ‘package:stats’:\n",
            "\n",
            "    filter, lag\n",
            "\n",
            "\n",
            "The following objects are masked from ‘package:base’:\n",
            "\n",
            "    intersect, setdiff, setequal, union\n",
            "\n",
            "\n"
          ]
        }
      ],
      "source": [
        "library(tidyr)\n",
        "library(readxl)\n",
        "library(dplyr)\n",
        "library(ggplot2)"
      ]
    },
    {
      "cell_type": "markdown",
      "source": [
        "<b> ACTION STEPS : </b></br>\n",
        "1) Load Dependencies </br>\n",
        "2) Load Datasets </br>\n",
        "3) Create Desired student file that incorporates informations about test scores, school information, attendance, and teacher's lesson completion rate.</br>\n",
        "4) Reshape \"Pupil Score\" file so that each student has only one row, with different columns for their scores in math, fluency, and Kiswahili </br>\n",
        "5) Merge the reshaped \"Pupil scores\" file with \"Pupil attendance\" to add attendance information for each pupil</br>\n",
        "6) Merge the above result withe \"School Information\" to include school level data viz region,province, and tutoring program status </br>\n",
        "7) Merge the teacher's lesson completion rate from the \"Lesson completion\" file Since this data is at the teacher level, and assuming that each grade in a school is taught by a unique teacher (as inferred from the data structure), we will merge on school_id and grade. </br>\n",
        "\n",
        "\n"
      ],
      "metadata": {
        "id": "kkXdUhSGeKG_"
      }
    },
    {
      "cell_type": "markdown",
      "source": [
        "<h2> STEP 2 : LOADINIG DATASETS\n",
        "</h2>"
      ],
      "metadata": {
        "id": "UGkOLbWteUKx"
      }
    },
    {
      "cell_type": "code",
      "source": [
        "Lesson_completion <- read_excel('/content/Lesson completion.xlsx')\n",
        "head(Lesson_completion, 5)"
      ],
      "metadata": {
        "colab": {
          "base_uri": "https://localhost:8080/",
          "height": 255
        },
        "id": "T1fiGVSTd1GG",
        "outputId": "326b59a2-85a5-4058-f7f2-5d759b9ea308"
      },
      "execution_count": null,
      "outputs": [
        {
          "output_type": "display_data",
          "data": {
            "text/html": [
              "<table class=\"dataframe\">\n",
              "<caption>A tibble: 5 × 4</caption>\n",
              "<thead>\n",
              "\t<tr><th scope=col>school_id</th><th scope=col>teacher_id</th><th scope=col>grade</th><th scope=col>lesson_completion_rate</th></tr>\n",
              "\t<tr><th scope=col>&lt;dbl&gt;</th><th scope=col>&lt;dbl&gt;</th><th scope=col>&lt;chr&gt;</th><th scope=col>&lt;dbl&gt;</th></tr>\n",
              "</thead>\n",
              "<tbody>\n",
              "\t<tr><td>416</td><td>505</td><td>Grade 1</td><td>0.5684008</td></tr>\n",
              "\t<tr><td>416</td><td>202</td><td>Grade 2</td><td>0.6806084</td></tr>\n",
              "\t<tr><td>416</td><td>124</td><td>Grade 3</td><td>0.2504604</td></tr>\n",
              "\t<tr><td>416</td><td>516</td><td>Grade 4</td><td>0.3591549</td></tr>\n",
              "\t<tr><td>416</td><td>145</td><td>Grade 5</td><td>0.3967611</td></tr>\n",
              "</tbody>\n",
              "</table>\n"
            ],
            "text/markdown": "\nA tibble: 5 × 4\n\n| school_id &lt;dbl&gt; | teacher_id &lt;dbl&gt; | grade &lt;chr&gt; | lesson_completion_rate &lt;dbl&gt; |\n|---|---|---|---|\n| 416 | 505 | Grade 1 | 0.5684008 |\n| 416 | 202 | Grade 2 | 0.6806084 |\n| 416 | 124 | Grade 3 | 0.2504604 |\n| 416 | 516 | Grade 4 | 0.3591549 |\n| 416 | 145 | Grade 5 | 0.3967611 |\n\n",
            "text/latex": "A tibble: 5 × 4\n\\begin{tabular}{llll}\n school\\_id & teacher\\_id & grade & lesson\\_completion\\_rate\\\\\n <dbl> & <dbl> & <chr> & <dbl>\\\\\n\\hline\n\t 416 & 505 & Grade 1 & 0.5684008\\\\\n\t 416 & 202 & Grade 2 & 0.6806084\\\\\n\t 416 & 124 & Grade 3 & 0.2504604\\\\\n\t 416 & 516 & Grade 4 & 0.3591549\\\\\n\t 416 & 145 & Grade 5 & 0.3967611\\\\\n\\end{tabular}\n",
            "text/plain": [
              "  school_id teacher_id grade   lesson_completion_rate\n",
              "1 416       505        Grade 1 0.5684008             \n",
              "2 416       202        Grade 2 0.6806084             \n",
              "3 416       124        Grade 3 0.2504604             \n",
              "4 416       516        Grade 4 0.3591549             \n",
              "5 416       145        Grade 5 0.3967611             "
            ]
          },
          "metadata": {}
        }
      ]
    },
    {
      "cell_type": "code",
      "source": [
        "pupil_attendance <- read_excel(\"/content/Pupil attendance.xlsx\")\n",
        "head(pupil_attendance, 5)"
      ],
      "metadata": {
        "colab": {
          "base_uri": "https://localhost:8080/",
          "height": 255
        },
        "id": "JiaYkd37d1OB",
        "outputId": "afc4196f-b849-49aa-ea06-9aded32c7bb3"
      },
      "execution_count": null,
      "outputs": [
        {
          "output_type": "display_data",
          "data": {
            "text/html": [
              "<table class=\"dataframe\">\n",
              "<caption>A tibble: 5 × 5</caption>\n",
              "<thead>\n",
              "\t<tr><th scope=col>school_id</th><th scope=col>pupil_id</th><th scope=col>grade</th><th scope=col>attendance_records</th><th scope=col>present_records</th></tr>\n",
              "\t<tr><th scope=col>&lt;dbl&gt;</th><th scope=col>&lt;dbl&gt;</th><th scope=col>&lt;chr&gt;</th><th scope=col>&lt;dbl&gt;</th><th scope=col>&lt;dbl&gt;</th></tr>\n",
              "</thead>\n",
              "<tbody>\n",
              "\t<tr><td> 35175</td><td> 1</td><td>Grade 1</td><td> 91</td><td>69</td></tr>\n",
              "\t<tr><td> 40580</td><td> 7</td><td>Grade 2</td><td> 92</td><td>86</td></tr>\n",
              "\t<tr><td>  9342</td><td> 8</td><td>Grade 5</td><td> 43</td><td>39</td></tr>\n",
              "\t<tr><td>858450</td><td>10</td><td>Grade 5</td><td> 86</td><td>62</td></tr>\n",
              "\t<tr><td>   792</td><td>13</td><td>Grade 3</td><td>104</td><td>81</td></tr>\n",
              "</tbody>\n",
              "</table>\n"
            ],
            "text/markdown": "\nA tibble: 5 × 5\n\n| school_id &lt;dbl&gt; | pupil_id &lt;dbl&gt; | grade &lt;chr&gt; | attendance_records &lt;dbl&gt; | present_records &lt;dbl&gt; |\n|---|---|---|---|---|\n|  35175 |  1 | Grade 1 |  91 | 69 |\n|  40580 |  7 | Grade 2 |  92 | 86 |\n|   9342 |  8 | Grade 5 |  43 | 39 |\n| 858450 | 10 | Grade 5 |  86 | 62 |\n|    792 | 13 | Grade 3 | 104 | 81 |\n\n",
            "text/latex": "A tibble: 5 × 5\n\\begin{tabular}{lllll}\n school\\_id & pupil\\_id & grade & attendance\\_records & present\\_records\\\\\n <dbl> & <dbl> & <chr> & <dbl> & <dbl>\\\\\n\\hline\n\t  35175 &  1 & Grade 1 &  91 & 69\\\\\n\t  40580 &  7 & Grade 2 &  92 & 86\\\\\n\t   9342 &  8 & Grade 5 &  43 & 39\\\\\n\t 858450 & 10 & Grade 5 &  86 & 62\\\\\n\t    792 & 13 & Grade 3 & 104 & 81\\\\\n\\end{tabular}\n",
            "text/plain": [
              "  school_id pupil_id grade   attendance_records present_records\n",
              "1  35175     1       Grade 1  91                69             \n",
              "2  40580     7       Grade 2  92                86             \n",
              "3   9342     8       Grade 5  43                39             \n",
              "4 858450    10       Grade 5  86                62             \n",
              "5    792    13       Grade 3 104                81             "
            ]
          },
          "metadata": {}
        }
      ]
    },
    {
      "cell_type": "code",
      "source": [
        "school_information <- read_excel(\"/content/School_information.xlsx\")\n",
        "head(school_information)"
      ],
      "metadata": {
        "colab": {
          "base_uri": "https://localhost:8080/",
          "height": 286
        },
        "id": "WJGaRiFhd1Sd",
        "outputId": "1bf65d5c-8b86-4fa4-aa24-a1d4ab9cc466"
      },
      "execution_count": null,
      "outputs": [
        {
          "output_type": "display_data",
          "data": {
            "text/html": [
              "<table class=\"dataframe\">\n",
              "<caption>A tibble: 6 × 4</caption>\n",
              "<thead>\n",
              "\t<tr><th scope=col>region</th><th scope=col>province</th><th scope=col>school_id</th><th scope=col>tutoring_program</th></tr>\n",
              "\t<tr><th scope=col>&lt;chr&gt;</th><th scope=col>&lt;chr&gt;</th><th scope=col>&lt;dbl&gt;</th><th scope=col>&lt;chr&gt;</th></tr>\n",
              "</thead>\n",
              "<tbody>\n",
              "\t<tr><td>Mombasa</td><td>Coast  </td><td>136992</td><td>No </td></tr>\n",
              "\t<tr><td>Kilifi </td><td>Coast  </td><td>687400</td><td>Yes</td></tr>\n",
              "\t<tr><td>Mombasa</td><td>Coast  </td><td>609982</td><td>Yes</td></tr>\n",
              "\t<tr><td>Eastern</td><td>Eastern</td><td>223941</td><td>No </td></tr>\n",
              "\t<tr><td>Isiolo </td><td>Eastern</td><td> 34092</td><td>No </td></tr>\n",
              "\t<tr><td>Isiolo </td><td>Eastern</td><td> 46684</td><td>No </td></tr>\n",
              "</tbody>\n",
              "</table>\n"
            ],
            "text/markdown": "\nA tibble: 6 × 4\n\n| region &lt;chr&gt; | province &lt;chr&gt; | school_id &lt;dbl&gt; | tutoring_program &lt;chr&gt; |\n|---|---|---|---|\n| Mombasa | Coast   | 136992 | No  |\n| Kilifi  | Coast   | 687400 | Yes |\n| Mombasa | Coast   | 609982 | Yes |\n| Eastern | Eastern | 223941 | No  |\n| Isiolo  | Eastern |  34092 | No  |\n| Isiolo  | Eastern |  46684 | No  |\n\n",
            "text/latex": "A tibble: 6 × 4\n\\begin{tabular}{llll}\n region & province & school\\_id & tutoring\\_program\\\\\n <chr> & <chr> & <dbl> & <chr>\\\\\n\\hline\n\t Mombasa & Coast   & 136992 & No \\\\\n\t Kilifi  & Coast   & 687400 & Yes\\\\\n\t Mombasa & Coast   & 609982 & Yes\\\\\n\t Eastern & Eastern & 223941 & No \\\\\n\t Isiolo  & Eastern &  34092 & No \\\\\n\t Isiolo  & Eastern &  46684 & No \\\\\n\\end{tabular}\n",
            "text/plain": [
              "  region  province school_id tutoring_program\n",
              "1 Mombasa Coast    136992    No              \n",
              "2 Kilifi  Coast    687400    Yes             \n",
              "3 Mombasa Coast    609982    Yes             \n",
              "4 Eastern Eastern  223941    No              \n",
              "5 Isiolo  Eastern   34092    No              \n",
              "6 Isiolo  Eastern   46684    No              "
            ]
          },
          "metadata": {}
        }
      ]
    },
    {
      "cell_type": "code",
      "source": [
        "pupil_scores <- read_excel(\"/content/Pupil scores.xlsx\")\n",
        "head(pupil_scores)"
      ],
      "metadata": {
        "colab": {
          "base_uri": "https://localhost:8080/",
          "height": 286
        },
        "id": "G7tjtamZd1XJ",
        "outputId": "79bc29ec-8b86-4f62-f0b2-5c0a0900535c"
      },
      "execution_count": null,
      "outputs": [
        {
          "output_type": "display_data",
          "data": {
            "text/html": [
              "<table class=\"dataframe\">\n",
              "<caption>A tibble: 6 × 5</caption>\n",
              "<thead>\n",
              "\t<tr><th scope=col>school_id</th><th scope=col>pupil_id</th><th scope=col>grade</th><th scope=col>subject</th><th scope=col>score</th></tr>\n",
              "\t<tr><th scope=col>&lt;dbl&gt;</th><th scope=col>&lt;dbl&gt;</th><th scope=col>&lt;chr&gt;</th><th scope=col>&lt;chr&gt;</th><th scope=col>&lt;dbl&gt;</th></tr>\n",
              "</thead>\n",
              "<tbody>\n",
              "\t<tr><td>35175</td><td>1</td><td>Grade 1</td><td>Fluency  </td><td> 65.0000000</td></tr>\n",
              "\t<tr><td>35175</td><td>1</td><td>Grade 1</td><td>Kiswahili</td><td>  0.9428571</td></tr>\n",
              "\t<tr><td>35175</td><td>1</td><td>Grade 1</td><td>Math     </td><td>  1.0000000</td></tr>\n",
              "\t<tr><td>40580</td><td>7</td><td>Grade 2</td><td>Math     </td><td>  0.9333333</td></tr>\n",
              "\t<tr><td>40580</td><td>7</td><td>Grade 2</td><td>Kiswahili</td><td>  0.9428571</td></tr>\n",
              "\t<tr><td>40580</td><td>7</td><td>Grade 2</td><td>Fluency  </td><td>117.0000000</td></tr>\n",
              "</tbody>\n",
              "</table>\n"
            ],
            "text/markdown": "\nA tibble: 6 × 5\n\n| school_id &lt;dbl&gt; | pupil_id &lt;dbl&gt; | grade &lt;chr&gt; | subject &lt;chr&gt; | score &lt;dbl&gt; |\n|---|---|---|---|---|\n| 35175 | 1 | Grade 1 | Fluency   |  65.0000000 |\n| 35175 | 1 | Grade 1 | Kiswahili |   0.9428571 |\n| 35175 | 1 | Grade 1 | Math      |   1.0000000 |\n| 40580 | 7 | Grade 2 | Math      |   0.9333333 |\n| 40580 | 7 | Grade 2 | Kiswahili |   0.9428571 |\n| 40580 | 7 | Grade 2 | Fluency   | 117.0000000 |\n\n",
            "text/latex": "A tibble: 6 × 5\n\\begin{tabular}{lllll}\n school\\_id & pupil\\_id & grade & subject & score\\\\\n <dbl> & <dbl> & <chr> & <chr> & <dbl>\\\\\n\\hline\n\t 35175 & 1 & Grade 1 & Fluency   &  65.0000000\\\\\n\t 35175 & 1 & Grade 1 & Kiswahili &   0.9428571\\\\\n\t 35175 & 1 & Grade 1 & Math      &   1.0000000\\\\\n\t 40580 & 7 & Grade 2 & Math      &   0.9333333\\\\\n\t 40580 & 7 & Grade 2 & Kiswahili &   0.9428571\\\\\n\t 40580 & 7 & Grade 2 & Fluency   & 117.0000000\\\\\n\\end{tabular}\n",
            "text/plain": [
              "  school_id pupil_id grade   subject   score      \n",
              "1 35175     1        Grade 1 Fluency    65.0000000\n",
              "2 35175     1        Grade 1 Kiswahili   0.9428571\n",
              "3 35175     1        Grade 1 Math        1.0000000\n",
              "4 40580     7        Grade 2 Math        0.9333333\n",
              "5 40580     7        Grade 2 Kiswahili   0.9428571\n",
              "6 40580     7        Grade 2 Fluency   117.0000000"
            ]
          },
          "metadata": {}
        }
      ]
    },
    {
      "cell_type": "markdown",
      "source": [
        "<h2> Step 3 Reshape the \"Pupil scores\" data </h2>"
      ],
      "metadata": {
        "id": "xYlBc44ufb1K"
      }
    },
    {
      "cell_type": "code",
      "source": [
        "pupil_scores_wide <- pupil_scores %>%\n",
        "  pivot_wider(names_from = subject, values_from = score) %>%\n",
        "  rename(Math = `Math`, Fluency = `Fluency`, Kiswahili = `Kiswahili`)"
      ],
      "metadata": {
        "id": "WtCgiFP4d1kp"
      },
      "execution_count": null,
      "outputs": []
    },
    {
      "cell_type": "markdown",
      "source": [
        "<HP> We have successfully converted or reshaped unique items in subject columns to an entirely new columns. This is called pivotting of columns"
      ],
      "metadata": {
        "id": "eZPE1XVNfNJS"
      }
    },
    {
      "cell_type": "code",
      "source": [
        "head(pupil_scores_wide, 5)"
      ],
      "metadata": {
        "colab": {
          "base_uri": "https://localhost:8080/",
          "height": 255
        },
        "id": "m1m6bLqffi_N",
        "outputId": "8f837d27-f6be-4387-a14d-cab11d21e112"
      },
      "execution_count": null,
      "outputs": [
        {
          "output_type": "display_data",
          "data": {
            "text/html": [
              "<table class=\"dataframe\">\n",
              "<caption>A tibble: 5 × 6</caption>\n",
              "<thead>\n",
              "\t<tr><th scope=col>school_id</th><th scope=col>pupil_id</th><th scope=col>grade</th><th scope=col>Fluency</th><th scope=col>Kiswahili</th><th scope=col>Math</th></tr>\n",
              "\t<tr><th scope=col>&lt;dbl&gt;</th><th scope=col>&lt;dbl&gt;</th><th scope=col>&lt;chr&gt;</th><th scope=col>&lt;dbl&gt;</th><th scope=col>&lt;dbl&gt;</th><th scope=col>&lt;dbl&gt;</th></tr>\n",
              "</thead>\n",
              "<tbody>\n",
              "\t<tr><td> 35175</td><td> 1</td><td>Grade 1</td><td> 65</td><td>0.9428571</td><td>1.0000000</td></tr>\n",
              "\t<tr><td> 40580</td><td> 7</td><td>Grade 2</td><td>117</td><td>0.9428571</td><td>0.9333333</td></tr>\n",
              "\t<tr><td>  9342</td><td> 8</td><td>Grade 5</td><td>144</td><td>0.8500000</td><td>0.7000000</td></tr>\n",
              "\t<tr><td>858450</td><td>10</td><td>Grade 5</td><td>211</td><td>1.0000000</td><td>0.7200000</td></tr>\n",
              "\t<tr><td>   792</td><td>13</td><td>Grade 3</td><td>221</td><td>0.8571429</td><td>0.9666666</td></tr>\n",
              "</tbody>\n",
              "</table>\n"
            ],
            "text/markdown": "\nA tibble: 5 × 6\n\n| school_id &lt;dbl&gt; | pupil_id &lt;dbl&gt; | grade &lt;chr&gt; | Fluency &lt;dbl&gt; | Kiswahili &lt;dbl&gt; | Math &lt;dbl&gt; |\n|---|---|---|---|---|---|\n|  35175 |  1 | Grade 1 |  65 | 0.9428571 | 1.0000000 |\n|  40580 |  7 | Grade 2 | 117 | 0.9428571 | 0.9333333 |\n|   9342 |  8 | Grade 5 | 144 | 0.8500000 | 0.7000000 |\n| 858450 | 10 | Grade 5 | 211 | 1.0000000 | 0.7200000 |\n|    792 | 13 | Grade 3 | 221 | 0.8571429 | 0.9666666 |\n\n",
            "text/latex": "A tibble: 5 × 6\n\\begin{tabular}{llllll}\n school\\_id & pupil\\_id & grade & Fluency & Kiswahili & Math\\\\\n <dbl> & <dbl> & <chr> & <dbl> & <dbl> & <dbl>\\\\\n\\hline\n\t  35175 &  1 & Grade 1 &  65 & 0.9428571 & 1.0000000\\\\\n\t  40580 &  7 & Grade 2 & 117 & 0.9428571 & 0.9333333\\\\\n\t   9342 &  8 & Grade 5 & 144 & 0.8500000 & 0.7000000\\\\\n\t 858450 & 10 & Grade 5 & 211 & 1.0000000 & 0.7200000\\\\\n\t    792 & 13 & Grade 3 & 221 & 0.8571429 & 0.9666666\\\\\n\\end{tabular}\n",
            "text/plain": [
              "  school_id pupil_id grade   Fluency Kiswahili Math     \n",
              "1  35175     1       Grade 1  65     0.9428571 1.0000000\n",
              "2  40580     7       Grade 2 117     0.9428571 0.9333333\n",
              "3   9342     8       Grade 5 144     0.8500000 0.7000000\n",
              "4 858450    10       Grade 5 211     1.0000000 0.7200000\n",
              "5    792    13       Grade 3 221     0.8571429 0.9666666"
            ]
          },
          "metadata": {}
        }
      ]
    },
    {
      "cell_type": "markdown",
      "source": [
        "<h2> Step 4: Merging with \"Pupil attendance\" </h2>"
      ],
      "metadata": {
        "id": "qE4bxuULkfZR"
      }
    },
    {
      "cell_type": "code",
      "source": [
        "pupil_combined <- pupil_scores_wide %>%\n",
        "  left_join(pupil_attendance, by = c(\"school_id\", \"pupil_id\", \"grade\"))"
      ],
      "metadata": {
        "id": "fE2_1o3ZflP0"
      },
      "execution_count": null,
      "outputs": []
    },
    {
      "cell_type": "markdown",
      "source": [
        "\n",
        "Merging the pupil attendance table with the reshaped data using a left join, on their similar columns"
      ],
      "metadata": {
        "id": "XOGh2MYDhYrA"
      }
    },
    {
      "cell_type": "code",
      "source": [
        "head ( pupil_combined, 5)"
      ],
      "metadata": {
        "colab": {
          "base_uri": "https://localhost:8080/",
          "height": 255
        },
        "id": "EGYBPwghl1ck",
        "outputId": "850abd39-6617-4b7e-a8f3-f0655c2cdb49"
      },
      "execution_count": null,
      "outputs": [
        {
          "output_type": "display_data",
          "data": {
            "text/html": [
              "<table class=\"dataframe\">\n",
              "<caption>A tibble: 5 × 8</caption>\n",
              "<thead>\n",
              "\t<tr><th scope=col>school_id</th><th scope=col>pupil_id</th><th scope=col>grade</th><th scope=col>Fluency</th><th scope=col>Kiswahili</th><th scope=col>Math</th><th scope=col>attendance_records</th><th scope=col>present_records</th></tr>\n",
              "\t<tr><th scope=col>&lt;dbl&gt;</th><th scope=col>&lt;dbl&gt;</th><th scope=col>&lt;chr&gt;</th><th scope=col>&lt;dbl&gt;</th><th scope=col>&lt;dbl&gt;</th><th scope=col>&lt;dbl&gt;</th><th scope=col>&lt;dbl&gt;</th><th scope=col>&lt;dbl&gt;</th></tr>\n",
              "</thead>\n",
              "<tbody>\n",
              "\t<tr><td> 35175</td><td> 1</td><td>Grade 1</td><td> 65</td><td>0.9428571</td><td>1.0000000</td><td> 91</td><td>69</td></tr>\n",
              "\t<tr><td> 40580</td><td> 7</td><td>Grade 2</td><td>117</td><td>0.9428571</td><td>0.9333333</td><td> 92</td><td>86</td></tr>\n",
              "\t<tr><td>  9342</td><td> 8</td><td>Grade 5</td><td>144</td><td>0.8500000</td><td>0.7000000</td><td> 43</td><td>39</td></tr>\n",
              "\t<tr><td>858450</td><td>10</td><td>Grade 5</td><td>211</td><td>1.0000000</td><td>0.7200000</td><td> 86</td><td>62</td></tr>\n",
              "\t<tr><td>   792</td><td>13</td><td>Grade 3</td><td>221</td><td>0.8571429</td><td>0.9666666</td><td>104</td><td>81</td></tr>\n",
              "</tbody>\n",
              "</table>\n"
            ],
            "text/markdown": "\nA tibble: 5 × 8\n\n| school_id &lt;dbl&gt; | pupil_id &lt;dbl&gt; | grade &lt;chr&gt; | Fluency &lt;dbl&gt; | Kiswahili &lt;dbl&gt; | Math &lt;dbl&gt; | attendance_records &lt;dbl&gt; | present_records &lt;dbl&gt; |\n|---|---|---|---|---|---|---|---|\n|  35175 |  1 | Grade 1 |  65 | 0.9428571 | 1.0000000 |  91 | 69 |\n|  40580 |  7 | Grade 2 | 117 | 0.9428571 | 0.9333333 |  92 | 86 |\n|   9342 |  8 | Grade 5 | 144 | 0.8500000 | 0.7000000 |  43 | 39 |\n| 858450 | 10 | Grade 5 | 211 | 1.0000000 | 0.7200000 |  86 | 62 |\n|    792 | 13 | Grade 3 | 221 | 0.8571429 | 0.9666666 | 104 | 81 |\n\n",
            "text/latex": "A tibble: 5 × 8\n\\begin{tabular}{llllllll}\n school\\_id & pupil\\_id & grade & Fluency & Kiswahili & Math & attendance\\_records & present\\_records\\\\\n <dbl> & <dbl> & <chr> & <dbl> & <dbl> & <dbl> & <dbl> & <dbl>\\\\\n\\hline\n\t  35175 &  1 & Grade 1 &  65 & 0.9428571 & 1.0000000 &  91 & 69\\\\\n\t  40580 &  7 & Grade 2 & 117 & 0.9428571 & 0.9333333 &  92 & 86\\\\\n\t   9342 &  8 & Grade 5 & 144 & 0.8500000 & 0.7000000 &  43 & 39\\\\\n\t 858450 & 10 & Grade 5 & 211 & 1.0000000 & 0.7200000 &  86 & 62\\\\\n\t    792 & 13 & Grade 3 & 221 & 0.8571429 & 0.9666666 & 104 & 81\\\\\n\\end{tabular}\n",
            "text/plain": [
              "  school_id pupil_id grade   Fluency Kiswahili Math      attendance_records\n",
              "1  35175     1       Grade 1  65     0.9428571 1.0000000  91               \n",
              "2  40580     7       Grade 2 117     0.9428571 0.9333333  92               \n",
              "3   9342     8       Grade 5 144     0.8500000 0.7000000  43               \n",
              "4 858450    10       Grade 5 211     1.0000000 0.7200000  86               \n",
              "5    792    13       Grade 3 221     0.8571429 0.9666666 104               \n",
              "  present_records\n",
              "1 69             \n",
              "2 86             \n",
              "3 39             \n",
              "4 62             \n",
              "5 81             "
            ]
          },
          "metadata": {}
        }
      ]
    },
    {
      "cell_type": "markdown",
      "source": [],
      "metadata": {
        "id": "27BF9iOAAJon"
      }
    },
    {
      "cell_type": "markdown",
      "source": [
        "<h2> Step 5: Merge with \"School information\"</h2>"
      ],
      "metadata": {
        "id": "QMECnp4FmGII"
      }
    },
    {
      "cell_type": "code",
      "source": [
        "pupil_school_combined <- pupil_combined %>%\n",
        "  left_join(school_information, by = \"school_id\")\n"
      ],
      "metadata": {
        "id": "hv9cZ_VON4Hi"
      },
      "execution_count": null,
      "outputs": []
    },
    {
      "cell_type": "code",
      "source": [
        "head (pupil_school_combined, 5)"
      ],
      "metadata": {
        "colab": {
          "base_uri": "https://localhost:8080/",
          "height": 255
        },
        "id": "GVHvJyzAN_qs",
        "outputId": "ab96d962-3113-4f5f-9903-71fd9690f48f"
      },
      "execution_count": null,
      "outputs": [
        {
          "output_type": "display_data",
          "data": {
            "text/html": [
              "<table class=\"dataframe\">\n",
              "<caption>A tibble: 5 × 11</caption>\n",
              "<thead>\n",
              "\t<tr><th scope=col>school_id</th><th scope=col>pupil_id</th><th scope=col>grade</th><th scope=col>Fluency</th><th scope=col>Kiswahili</th><th scope=col>Math</th><th scope=col>attendance_records</th><th scope=col>present_records</th><th scope=col>region</th><th scope=col>province</th><th scope=col>tutoring_program</th></tr>\n",
              "\t<tr><th scope=col>&lt;dbl&gt;</th><th scope=col>&lt;dbl&gt;</th><th scope=col>&lt;chr&gt;</th><th scope=col>&lt;dbl&gt;</th><th scope=col>&lt;dbl&gt;</th><th scope=col>&lt;dbl&gt;</th><th scope=col>&lt;dbl&gt;</th><th scope=col>&lt;dbl&gt;</th><th scope=col>&lt;chr&gt;</th><th scope=col>&lt;chr&gt;</th><th scope=col>&lt;chr&gt;</th></tr>\n",
              "</thead>\n",
              "<tbody>\n",
              "\t<tr><td> 35175</td><td> 1</td><td>Grade 1</td><td> 65</td><td>0.9428571</td><td>1.0000000</td><td> 91</td><td>69</td><td>Tana river</td><td>Coast  </td><td>No </td></tr>\n",
              "\t<tr><td> 40580</td><td> 7</td><td>Grade 2</td><td>117</td><td>0.9428571</td><td>0.9333333</td><td> 92</td><td>86</td><td>Kisumu    </td><td>Nyanza </td><td>No </td></tr>\n",
              "\t<tr><td>  9342</td><td> 8</td><td>Grade 5</td><td>144</td><td>0.8500000</td><td>0.7000000</td><td> 43</td><td>39</td><td>Nairobi   </td><td>Nairobi</td><td>No </td></tr>\n",
              "\t<tr><td>858450</td><td>10</td><td>Grade 5</td><td>211</td><td>1.0000000</td><td>0.7200000</td><td> 86</td><td>62</td><td>Kisumu    </td><td>Nyanza </td><td>Yes</td></tr>\n",
              "\t<tr><td>   792</td><td>13</td><td>Grade 3</td><td>221</td><td>0.8571429</td><td>0.9666666</td><td>104</td><td>81</td><td>Siaya     </td><td>Nyanza </td><td>No </td></tr>\n",
              "</tbody>\n",
              "</table>\n"
            ],
            "text/markdown": "\nA tibble: 5 × 11\n\n| school_id &lt;dbl&gt; | pupil_id &lt;dbl&gt; | grade &lt;chr&gt; | Fluency &lt;dbl&gt; | Kiswahili &lt;dbl&gt; | Math &lt;dbl&gt; | attendance_records &lt;dbl&gt; | present_records &lt;dbl&gt; | region &lt;chr&gt; | province &lt;chr&gt; | tutoring_program &lt;chr&gt; |\n|---|---|---|---|---|---|---|---|---|---|---|\n|  35175 |  1 | Grade 1 |  65 | 0.9428571 | 1.0000000 |  91 | 69 | Tana river | Coast   | No  |\n|  40580 |  7 | Grade 2 | 117 | 0.9428571 | 0.9333333 |  92 | 86 | Kisumu     | Nyanza  | No  |\n|   9342 |  8 | Grade 5 | 144 | 0.8500000 | 0.7000000 |  43 | 39 | Nairobi    | Nairobi | No  |\n| 858450 | 10 | Grade 5 | 211 | 1.0000000 | 0.7200000 |  86 | 62 | Kisumu     | Nyanza  | Yes |\n|    792 | 13 | Grade 3 | 221 | 0.8571429 | 0.9666666 | 104 | 81 | Siaya      | Nyanza  | No  |\n\n",
            "text/latex": "A tibble: 5 × 11\n\\begin{tabular}{lllllllllll}\n school\\_id & pupil\\_id & grade & Fluency & Kiswahili & Math & attendance\\_records & present\\_records & region & province & tutoring\\_program\\\\\n <dbl> & <dbl> & <chr> & <dbl> & <dbl> & <dbl> & <dbl> & <dbl> & <chr> & <chr> & <chr>\\\\\n\\hline\n\t  35175 &  1 & Grade 1 &  65 & 0.9428571 & 1.0000000 &  91 & 69 & Tana river & Coast   & No \\\\\n\t  40580 &  7 & Grade 2 & 117 & 0.9428571 & 0.9333333 &  92 & 86 & Kisumu     & Nyanza  & No \\\\\n\t   9342 &  8 & Grade 5 & 144 & 0.8500000 & 0.7000000 &  43 & 39 & Nairobi    & Nairobi & No \\\\\n\t 858450 & 10 & Grade 5 & 211 & 1.0000000 & 0.7200000 &  86 & 62 & Kisumu     & Nyanza  & Yes\\\\\n\t    792 & 13 & Grade 3 & 221 & 0.8571429 & 0.9666666 & 104 & 81 & Siaya      & Nyanza  & No \\\\\n\\end{tabular}\n",
            "text/plain": [
              "  school_id pupil_id grade   Fluency Kiswahili Math      attendance_records\n",
              "1  35175     1       Grade 1  65     0.9428571 1.0000000  91               \n",
              "2  40580     7       Grade 2 117     0.9428571 0.9333333  92               \n",
              "3   9342     8       Grade 5 144     0.8500000 0.7000000  43               \n",
              "4 858450    10       Grade 5 211     1.0000000 0.7200000  86               \n",
              "5    792    13       Grade 3 221     0.8571429 0.9666666 104               \n",
              "  present_records region     province tutoring_program\n",
              "1 69              Tana river Coast    No              \n",
              "2 86              Kisumu     Nyanza   No              \n",
              "3 39              Nairobi    Nairobi  No              \n",
              "4 62              Kisumu     Nyanza   Yes             \n",
              "5 81              Siaya      Nyanza   No              "
            ]
          },
          "metadata": {}
        }
      ]
    },
    {
      "cell_type": "markdown",
      "source": [
        "# Step 6: Merge with \"Lesson completion\""
      ],
      "metadata": {
        "id": "J5jSfBaTRIWl"
      }
    },
    {
      "cell_type": "code",
      "source": [
        "final_student_level_df <- pupil_school_combined %>%\n",
        "  left_join(Lesson_completion %>% select(-teacher_id), by = c(\"school_id\", \"grade\"))\n"
      ],
      "metadata": {
        "id": "1MaftOquGa9K"
      },
      "execution_count": null,
      "outputs": []
    },
    {
      "cell_type": "code",
      "source": [
        "head(final_student_level_df, 5)"
      ],
      "metadata": {
        "colab": {
          "base_uri": "https://localhost:8080/",
          "height": 255
        },
        "id": "ZslPGKaumYQw",
        "outputId": "e39eae6e-93d7-4298-9337-708200176d2d"
      },
      "execution_count": null,
      "outputs": [
        {
          "output_type": "display_data",
          "data": {
            "text/html": [
              "<table class=\"dataframe\">\n",
              "<caption>A tibble: 5 × 12</caption>\n",
              "<thead>\n",
              "\t<tr><th scope=col>school_id</th><th scope=col>pupil_id</th><th scope=col>grade</th><th scope=col>Fluency</th><th scope=col>Kiswahili</th><th scope=col>Math</th><th scope=col>attendance_records</th><th scope=col>present_records</th><th scope=col>region</th><th scope=col>province</th><th scope=col>tutoring_program</th><th scope=col>lesson_completion_rate</th></tr>\n",
              "\t<tr><th scope=col>&lt;dbl&gt;</th><th scope=col>&lt;dbl&gt;</th><th scope=col>&lt;chr&gt;</th><th scope=col>&lt;dbl&gt;</th><th scope=col>&lt;dbl&gt;</th><th scope=col>&lt;dbl&gt;</th><th scope=col>&lt;dbl&gt;</th><th scope=col>&lt;dbl&gt;</th><th scope=col>&lt;chr&gt;</th><th scope=col>&lt;chr&gt;</th><th scope=col>&lt;chr&gt;</th><th scope=col>&lt;dbl&gt;</th></tr>\n",
              "</thead>\n",
              "<tbody>\n",
              "\t<tr><td> 35175</td><td> 1</td><td>Grade 1</td><td> 65</td><td>0.9428571</td><td>1.0000000</td><td> 91</td><td>69</td><td>Tana river</td><td>Coast  </td><td>No </td><td>0.6878613</td></tr>\n",
              "\t<tr><td> 40580</td><td> 7</td><td>Grade 2</td><td>117</td><td>0.9428571</td><td>0.9333333</td><td> 92</td><td>86</td><td>Kisumu    </td><td>Nyanza </td><td>No </td><td>0.8307985</td></tr>\n",
              "\t<tr><td>  9342</td><td> 8</td><td>Grade 5</td><td>144</td><td>0.8500000</td><td>0.7000000</td><td> 43</td><td>39</td><td>Nairobi   </td><td>Nairobi</td><td>No </td><td>0.8097166</td></tr>\n",
              "\t<tr><td>858450</td><td>10</td><td>Grade 5</td><td>211</td><td>1.0000000</td><td>0.7200000</td><td> 86</td><td>62</td><td>Kisumu    </td><td>Nyanza </td><td>Yes</td><td>0.4430894</td></tr>\n",
              "\t<tr><td>   792</td><td>13</td><td>Grade 3</td><td>221</td><td>0.8571429</td><td>0.9666666</td><td>104</td><td>81</td><td>Siaya     </td><td>Nyanza </td><td>No </td><td>0.8821363</td></tr>\n",
              "</tbody>\n",
              "</table>\n"
            ],
            "text/markdown": "\nA tibble: 5 × 12\n\n| school_id &lt;dbl&gt; | pupil_id &lt;dbl&gt; | grade &lt;chr&gt; | Fluency &lt;dbl&gt; | Kiswahili &lt;dbl&gt; | Math &lt;dbl&gt; | attendance_records &lt;dbl&gt; | present_records &lt;dbl&gt; | region &lt;chr&gt; | province &lt;chr&gt; | tutoring_program &lt;chr&gt; | lesson_completion_rate &lt;dbl&gt; |\n|---|---|---|---|---|---|---|---|---|---|---|---|\n|  35175 |  1 | Grade 1 |  65 | 0.9428571 | 1.0000000 |  91 | 69 | Tana river | Coast   | No  | 0.6878613 |\n|  40580 |  7 | Grade 2 | 117 | 0.9428571 | 0.9333333 |  92 | 86 | Kisumu     | Nyanza  | No  | 0.8307985 |\n|   9342 |  8 | Grade 5 | 144 | 0.8500000 | 0.7000000 |  43 | 39 | Nairobi    | Nairobi | No  | 0.8097166 |\n| 858450 | 10 | Grade 5 | 211 | 1.0000000 | 0.7200000 |  86 | 62 | Kisumu     | Nyanza  | Yes | 0.4430894 |\n|    792 | 13 | Grade 3 | 221 | 0.8571429 | 0.9666666 | 104 | 81 | Siaya      | Nyanza  | No  | 0.8821363 |\n\n",
            "text/latex": "A tibble: 5 × 12\n\\begin{tabular}{llllllllllll}\n school\\_id & pupil\\_id & grade & Fluency & Kiswahili & Math & attendance\\_records & present\\_records & region & province & tutoring\\_program & lesson\\_completion\\_rate\\\\\n <dbl> & <dbl> & <chr> & <dbl> & <dbl> & <dbl> & <dbl> & <dbl> & <chr> & <chr> & <chr> & <dbl>\\\\\n\\hline\n\t  35175 &  1 & Grade 1 &  65 & 0.9428571 & 1.0000000 &  91 & 69 & Tana river & Coast   & No  & 0.6878613\\\\\n\t  40580 &  7 & Grade 2 & 117 & 0.9428571 & 0.9333333 &  92 & 86 & Kisumu     & Nyanza  & No  & 0.8307985\\\\\n\t   9342 &  8 & Grade 5 & 144 & 0.8500000 & 0.7000000 &  43 & 39 & Nairobi    & Nairobi & No  & 0.8097166\\\\\n\t 858450 & 10 & Grade 5 & 211 & 1.0000000 & 0.7200000 &  86 & 62 & Kisumu     & Nyanza  & Yes & 0.4430894\\\\\n\t    792 & 13 & Grade 3 & 221 & 0.8571429 & 0.9666666 & 104 & 81 & Siaya      & Nyanza  & No  & 0.8821363\\\\\n\\end{tabular}\n",
            "text/plain": [
              "  school_id pupil_id grade   Fluency Kiswahili Math      attendance_records\n",
              "1  35175     1       Grade 1  65     0.9428571 1.0000000  91               \n",
              "2  40580     7       Grade 2 117     0.9428571 0.9333333  92               \n",
              "3   9342     8       Grade 5 144     0.8500000 0.7000000  43               \n",
              "4 858450    10       Grade 5 211     1.0000000 0.7200000  86               \n",
              "5    792    13       Grade 3 221     0.8571429 0.9666666 104               \n",
              "  present_records region     province tutoring_program lesson_completion_rate\n",
              "1 69              Tana river Coast    No               0.6878613             \n",
              "2 86              Kisumu     Nyanza   No               0.8307985             \n",
              "3 39              Nairobi    Nairobi  No               0.8097166             \n",
              "4 62              Kisumu     Nyanza   Yes              0.4430894             \n",
              "5 81              Siaya      Nyanza   No               0.8821363             "
            ]
          },
          "metadata": {}
        }
      ]
    },
    {
      "cell_type": "code",
      "source": [
        "final_student_level_df"
      ],
      "metadata": {
        "colab": {
          "base_uri": "https://localhost:8080/",
          "height": 1000
        },
        "id": "ZTgz5vwOU9LM",
        "outputId": "c1b9c2fe-76df-4117-84a2-5b6b4f2923f9"
      },
      "execution_count": null,
      "outputs": [
        {
          "output_type": "display_data",
          "data": {
            "text/html": [
              "<table class=\"dataframe\">\n",
              "<caption>A tibble: 12701 × 12</caption>\n",
              "<thead>\n",
              "\t<tr><th scope=col>school_id</th><th scope=col>pupil_id</th><th scope=col>grade</th><th scope=col>Fluency</th><th scope=col>Kiswahili</th><th scope=col>Math</th><th scope=col>attendance_records</th><th scope=col>present_records</th><th scope=col>region</th><th scope=col>province</th><th scope=col>tutoring_program</th><th scope=col>lesson_completion_rate</th></tr>\n",
              "\t<tr><th scope=col>&lt;dbl&gt;</th><th scope=col>&lt;dbl&gt;</th><th scope=col>&lt;chr&gt;</th><th scope=col>&lt;dbl&gt;</th><th scope=col>&lt;dbl&gt;</th><th scope=col>&lt;dbl&gt;</th><th scope=col>&lt;dbl&gt;</th><th scope=col>&lt;dbl&gt;</th><th scope=col>&lt;chr&gt;</th><th scope=col>&lt;chr&gt;</th><th scope=col>&lt;chr&gt;</th><th scope=col>&lt;dbl&gt;</th></tr>\n",
              "</thead>\n",
              "<tbody>\n",
              "\t<tr><td> 35175</td><td> 1</td><td>Grade 1</td><td> 65</td><td>0.94285715</td><td>1.0000000</td><td> 91</td><td>69</td><td>Tana river   </td><td>Coast      </td><td>No </td><td>0.6878613</td></tr>\n",
              "\t<tr><td> 40580</td><td> 7</td><td>Grade 2</td><td>117</td><td>0.94285715</td><td>0.9333333</td><td> 92</td><td>86</td><td>Kisumu       </td><td>Nyanza     </td><td>No </td><td>0.8307985</td></tr>\n",
              "\t<tr><td>  9342</td><td> 8</td><td>Grade 5</td><td>144</td><td>0.85000002</td><td>0.7000000</td><td> 43</td><td>39</td><td>Nairobi      </td><td>Nairobi    </td><td>No </td><td>0.8097166</td></tr>\n",
              "\t<tr><td>858450</td><td>10</td><td>Grade 5</td><td>211</td><td>1.00000000</td><td>0.7200000</td><td> 86</td><td>62</td><td>Kisumu       </td><td>Nyanza     </td><td>Yes</td><td>0.4430894</td></tr>\n",
              "\t<tr><td>   792</td><td>13</td><td>Grade 3</td><td>221</td><td>0.85714287</td><td>0.9666666</td><td>104</td><td>81</td><td>Siaya        </td><td>Nyanza     </td><td>No </td><td>0.8821363</td></tr>\n",
              "\t<tr><td>324884</td><td>14</td><td>Grade 4</td><td>267</td><td>0.92057300</td><td>0.9000000</td><td> 90</td><td>67</td><td>Bungoma      </td><td>Western    </td><td>Yes</td><td>0.2457627</td></tr>\n",
              "\t<tr><td>230373</td><td>16</td><td>Grade 3</td><td>143</td><td>1.00000000</td><td>0.7203071</td><td> 81</td><td>65</td><td>Mombasa      </td><td>Coast      </td><td>Yes</td><td>0.7744681</td></tr>\n",
              "\t<tr><td>958934</td><td>18</td><td>Grade 4</td><td>  0</td><td>0.09935214</td><td>0.1600000</td><td> 90</td><td>80</td><td>Mombasa      </td><td>Coast      </td><td>Yes</td><td>0.3750000</td></tr>\n",
              "\t<tr><td>359640</td><td>27</td><td>Grade 3</td><td>130</td><td>1.00000000</td><td>0.9189060</td><td> 97</td><td>77</td><td>Kiambu       </td><td>Central    </td><td>Yes</td><td>0.5672192</td></tr>\n",
              "\t<tr><td>359640</td><td>34</td><td>Grade 4</td><td> 26</td><td>0.63377607</td><td>0.3000000</td><td> 85</td><td>59</td><td>Kiambu       </td><td>Central    </td><td>Yes</td><td>0.3219178</td></tr>\n",
              "\t<tr><td>297076</td><td>38</td><td>Grade 4</td><td> 58</td><td>1.00000000</td><td>0.3600000</td><td> 65</td><td>42</td><td>Kwale        </td><td>Coast      </td><td>Yes</td><td>0.2597403</td></tr>\n",
              "\t<tr><td> 49698</td><td>39</td><td>Grade 1</td><td> 60</td><td>0.82857144</td><td>1.0000000</td><td> 99</td><td>82</td><td>Mombasa      </td><td>Coast      </td><td>No </td><td>0.7032755</td></tr>\n",
              "\t<tr><td>323877</td><td>41</td><td>Grade 5</td><td>131</td><td>1.00000000</td><td>0.5200000</td><td> 43</td><td>37</td><td>Kilifi       </td><td>Coast      </td><td>Yes</td><td>0.3886640</td></tr>\n",
              "\t<tr><td>  9342</td><td>42</td><td>Grade 3</td><td>150</td><td>0.80000001</td><td>0.9666666</td><td> 59</td><td>50</td><td>Nairobi      </td><td>Nairobi    </td><td>No </td><td>0.2473118</td></tr>\n",
              "\t<tr><td>575416</td><td>46</td><td>Grade 4</td><td> 57</td><td>0.49534479</td><td>0.2600000</td><td> 62</td><td>60</td><td>Kilifi       </td><td>Coast      </td><td>Yes</td><td>0.1007194</td></tr>\n",
              "\t<tr><td>601798</td><td>53</td><td>Grade 3</td><td>109</td><td>1.00000000</td><td>0.7902516</td><td> 99</td><td>85</td><td>Taita taveta </td><td>Coast      </td><td>Yes</td><td>0.7955801</td></tr>\n",
              "\t<tr><td>155343</td><td>55</td><td>Grade 3</td><td> 86</td><td>0.68571430</td><td>0.5000000</td><td> 88</td><td>62</td><td>Mombasa      </td><td>Coast      </td><td>No </td><td>0.5365854</td></tr>\n",
              "\t<tr><td>  8084</td><td>57</td><td>Grade 2</td><td> 55</td><td>0.68571430</td><td>0.7333333</td><td>102</td><td>88</td><td>Kajiado      </td><td>Rift Valley</td><td>No </td><td>0.7500000</td></tr>\n",
              "\t<tr><td>323877</td><td>65</td><td>Grade 3</td><td>143</td><td>0.77625740</td><td>0.6108233</td><td>102</td><td>96</td><td>Kilifi       </td><td>Coast      </td><td>Yes</td><td>0.8172043</td></tr>\n",
              "\t<tr><td> 28860</td><td>66</td><td>Grade 1</td><td> 32</td><td>0.14285715</td><td>0.9000000</td><td>102</td><td>65</td><td>Nairobi      </td><td>Nairobi    </td><td>No </td><td>0.7341040</td></tr>\n",
              "\t<tr><td> 10904</td><td>67</td><td>Grade 1</td><td> 74</td><td>0.85714287</td><td>1.0000000</td><td> 75</td><td>63</td><td>Siaya        </td><td>Nyanza     </td><td>No </td><td>0.7605322</td></tr>\n",
              "\t<tr><td>388800</td><td>69</td><td>Grade 4</td><td> 79</td><td>0.78249252</td><td>0.7000000</td><td> 83</td><td>69</td><td>Narok        </td><td>Rift Valley</td><td>Yes</td><td>0.4586466</td></tr>\n",
              "\t<tr><td>607904</td><td>70</td><td>Grade 2</td><td> 63</td><td>1.00000000</td><td>1.0000000</td><td> 81</td><td>75</td><td>Kisii        </td><td>Nyanza     </td><td>Yes</td><td>0.5266160</td></tr>\n",
              "\t<tr><td>156096</td><td>73</td><td>Grade 5</td><td>221</td><td>0.80000001</td><td>0.6000000</td><td> 40</td><td>35</td><td>Tana river   </td><td>Coast      </td><td>No </td><td>0.3658537</td></tr>\n",
              "\t<tr><td>259688</td><td>76</td><td>Grade 4</td><td>231</td><td>1.00000000</td><td>0.9000000</td><td> 42</td><td>23</td><td>Migori       </td><td>Nyanza     </td><td>Yes</td><td>0.5555556</td></tr>\n",
              "\t<tr><td> 73360</td><td>79</td><td>Grade 5</td><td> 30</td><td>0.62500000</td><td>0.3000000</td><td>100</td><td>61</td><td>Nairobi      </td><td>Nairobi    </td><td>No </td><td>0.6046512</td></tr>\n",
              "\t<tr><td> 14475</td><td>81</td><td>Grade 3</td><td>225</td><td>0.71428573</td><td>0.8333333</td><td> 97</td><td>59</td><td>Kiambu       </td><td>Central    </td><td>No </td><td>0.6758748</td></tr>\n",
              "\t<tr><td>501872</td><td>82</td><td>Grade 3</td><td> 59</td><td>0.98261225</td><td>0.7027547</td><td> 69</td><td>48</td><td>Lamu         </td><td>Coast      </td><td>Yes</td><td>0.5162455</td></tr>\n",
              "\t<tr><td>489918</td><td>83</td><td>Grade 1</td><td> 57</td><td>1.00000000</td><td>0.7473882</td><td>102</td><td>88</td><td>Tharaka nithi</td><td>Eastern    </td><td>Yes</td><td>0.6955684</td></tr>\n",
              "\t<tr><td>223941</td><td>89</td><td>Grade 4</td><td>210</td><td>0.63999999</td><td>0.7200000</td><td> 63</td><td>55</td><td>Eastern      </td><td>Eastern    </td><td>No </td><td>0.1102362</td></tr>\n",
              "\t<tr><td>⋮</td><td>⋮</td><td>⋮</td><td>⋮</td><td>⋮</td><td>⋮</td><td>⋮</td><td>⋮</td><td>⋮</td><td>⋮</td><td>⋮</td><td>⋮</td></tr>\n",
              "\t<tr><td>  8084</td><td>27010</td><td>Grade 2</td><td>  6</td><td>0.1714286</td><td>0.2666667</td><td>102</td><td> 43</td><td>Kajiado     </td><td>Rift Valley</td><td>No </td><td>0.7500000</td></tr>\n",
              "\t<tr><td>286984</td><td>27011</td><td>Grade 3</td><td> 90</td><td>0.9457485</td><td>0.7001002</td><td> 59</td><td> 57</td><td>Isiolo      </td><td>Eastern    </td><td>Yes</td><td>0.5093458</td></tr>\n",
              "\t<tr><td> 32940</td><td>27013</td><td>Grade 3</td><td>196</td><td>0.8571429</td><td>0.8666667</td><td> 31</td><td> 24</td><td>Tana river  </td><td>Coast      </td><td>No </td><td>0.2007366</td></tr>\n",
              "\t<tr><td>118338</td><td>27014</td><td>Grade 5</td><td>140</td><td>0.0500000</td><td>0.1600000</td><td> 88</td><td> 86</td><td>Nakuru      </td><td>Rift Valley</td><td>No </td><td>0.2267206</td></tr>\n",
              "\t<tr><td>447445</td><td>27020</td><td>Grade 1</td><td> 18</td><td>0.9503101</td><td>0.8434758</td><td> 60</td><td> 59</td><td>Kwale       </td><td>Coast      </td><td>Yes</td><td>0.0000000</td></tr>\n",
              "\t<tr><td>425124</td><td>27022</td><td>Grade 1</td><td> 88</td><td>0.9453934</td><td>0.8657089</td><td> 96</td><td> 85</td><td>Kajiado     </td><td>Rift Valley</td><td>Yes</td><td>0.8153846</td></tr>\n",
              "\t<tr><td>491645</td><td>27023</td><td>Grade 1</td><td> 35</td><td>0.8202773</td><td>1.0000000</td><td>106</td><td> 96</td><td>Nairobi     </td><td>Nairobi    </td><td>Yes</td><td>0.8554913</td></tr>\n",
              "\t<tr><td> 35175</td><td>27024</td><td>Grade 5</td><td>220</td><td>0.9000000</td><td>0.7600000</td><td> 55</td><td> 49</td><td>Tana river  </td><td>Coast      </td><td>No </td><td>0.4745763</td></tr>\n",
              "\t<tr><td>356775</td><td>27025</td><td>Grade 1</td><td>  0</td><td>0.5321354</td><td>1.0000000</td><td> 55</td><td> 18</td><td>Kisii       </td><td>Nyanza     </td><td>Yes</td><td>0.1600000</td></tr>\n",
              "\t<tr><td> 16230</td><td>27026</td><td>Grade 1</td><td> 85</td><td>1.0000000</td><td>0.9666666</td><td>103</td><td> 85</td><td>Nairobi     </td><td>Nairobi    </td><td>No </td><td>0.5279383</td></tr>\n",
              "\t<tr><td>991980</td><td>27028</td><td>Grade 2</td><td> 70</td><td>0.9782379</td><td>0.9085294</td><td> 73</td><td> 72</td><td>Kilifi      </td><td>Coast      </td><td>Yes</td><td>0.5380228</td></tr>\n",
              "\t<tr><td>909600</td><td>27029</td><td>Grade 1</td><td> 50</td><td>0.6706557</td><td>0.6818725</td><td> 87</td><td> 74</td><td>Busia       </td><td>Western    </td><td>Yes</td><td>0.9826590</td></tr>\n",
              "\t<tr><td>206948</td><td>27031</td><td>Grade 5</td><td>  4</td><td>0.1000000</td><td>0.1000000</td><td> 51</td><td> 22</td><td>Taita taveta</td><td>Coast      </td><td>No </td><td>0.1619433</td></tr>\n",
              "\t<tr><td>864156</td><td>27032</td><td>Grade 5</td><td>252</td><td>1.0000000</td><td>0.6400000</td><td> 63</td><td> 28</td><td>Siaya       </td><td>Nyanza     </td><td>Yes</td><td>0.5894309</td></tr>\n",
              "\t<tr><td>264915</td><td>27034</td><td>Grade 3</td><td>209</td><td>0.8999282</td><td>0.7459806</td><td>106</td><td> 81</td><td>Mombasa     </td><td>Coast      </td><td>Yes</td><td>0.6707317</td></tr>\n",
              "\t<tr><td>447445</td><td>27035</td><td>Grade 2</td><td>240</td><td>0.6885827</td><td>0.3118506</td><td> 92</td><td> 65</td><td>Kwale       </td><td>Coast      </td><td>Yes</td><td>0.3365019</td></tr>\n",
              "\t<tr><td>359640</td><td>27042</td><td>Grade 3</td><td>174</td><td>0.6903718</td><td>0.6891003</td><td> 97</td><td> 76</td><td>Kiambu      </td><td>Central    </td><td>Yes</td><td>0.5672192</td></tr>\n",
              "\t<tr><td>491645</td><td>27044</td><td>Grade 5</td><td>122</td><td>1.0000000</td><td>0.7000000</td><td> 44</td><td> 38</td><td>Nairobi     </td><td>Nairobi    </td><td>Yes</td><td>0.6599190</td></tr>\n",
              "\t<tr><td>  9342</td><td>27046</td><td>Grade 2</td><td> 95</td><td>0.8285714</td><td>0.6666667</td><td>100</td><td> 97</td><td>Nairobi     </td><td>Nairobi    </td><td>No </td><td>0.6913580</td></tr>\n",
              "\t<tr><td>264915</td><td>27048</td><td>Grade 4</td><td>267</td><td>0.8023654</td><td>0.9600000</td><td> 70</td><td> 67</td><td>Mombasa     </td><td>Coast      </td><td>Yes</td><td>0.2133333</td></tr>\n",
              "\t<tr><td>406350</td><td>27049</td><td>Grade 3</td><td>114</td><td>0.9544908</td><td>0.9292173</td><td> 43</td><td> 43</td><td>Mombasa     </td><td>Coast      </td><td>Yes</td><td>0.7526882</td></tr>\n",
              "\t<tr><td>259688</td><td>27052</td><td>Grade 4</td><td> NA</td><td>       NA</td><td>       NA</td><td> 98</td><td> 63</td><td>Migori      </td><td>Nyanza     </td><td>Yes</td><td>0.5555556</td></tr>\n",
              "\t<tr><td>858450</td><td>27053</td><td>Grade 5</td><td> 76</td><td>0.7984206</td><td>0.7600000</td><td> 86</td><td> 59</td><td>Kisumu      </td><td>Nyanza     </td><td>Yes</td><td>0.4430894</td></tr>\n",
              "\t<tr><td>329344</td><td>27055</td><td>Grade 5</td><td>101</td><td>0.9257650</td><td>0.7400000</td><td> 57</td><td> 52</td><td>Taita taveta</td><td>Coast      </td><td>Yes</td><td>1.0000000</td></tr>\n",
              "\t<tr><td> 47025</td><td>27056</td><td>Grade 4</td><td>102</td><td>0.8000000</td><td>0.4800000</td><td> 87</td><td> 82</td><td>Nairobi     </td><td>Nairobi    </td><td>No </td><td>0.8837209</td></tr>\n",
              "\t<tr><td> 34092</td><td>27057</td><td>Grade 3</td><td>162</td><td>0.6857143</td><td>0.7333333</td><td> 27</td><td> 22</td><td>Isiolo      </td><td>Eastern    </td><td>No </td><td>0.2344398</td></tr>\n",
              "\t<tr><td>687400</td><td>27059</td><td>Grade 3</td><td>113</td><td>       NA</td><td>0.6062492</td><td> 91</td><td> 88</td><td>Kilifi      </td><td>Coast      </td><td>Yes</td><td>0.4419890</td></tr>\n",
              "\t<tr><td>314160</td><td>27061</td><td>Grade 3</td><td>139</td><td>0.7433425</td><td>0.7366351</td><td>107</td><td>100</td><td>Migori      </td><td>Nyanza     </td><td>Yes</td><td>0.9263352</td></tr>\n",
              "\t<tr><td> 39078</td><td>27062</td><td>Grade 1</td><td> 30</td><td>0.5142857</td><td>0.3000000</td><td> 91</td><td> 80</td><td>Kwale       </td><td>Coast      </td><td>No </td><td>0.4065511</td></tr>\n",
              "\t<tr><td>223941</td><td>27063</td><td>Grade 5</td><td>185</td><td>0.5750000</td><td>0.7200000</td><td> 95</td><td> 58</td><td>Eastern     </td><td>Eastern    </td><td>No </td><td>0.1428571</td></tr>\n",
              "</tbody>\n",
              "</table>\n"
            ],
            "text/markdown": "\nA tibble: 12701 × 12\n\n| school_id &lt;dbl&gt; | pupil_id &lt;dbl&gt; | grade &lt;chr&gt; | Fluency &lt;dbl&gt; | Kiswahili &lt;dbl&gt; | Math &lt;dbl&gt; | attendance_records &lt;dbl&gt; | present_records &lt;dbl&gt; | region &lt;chr&gt; | province &lt;chr&gt; | tutoring_program &lt;chr&gt; | lesson_completion_rate &lt;dbl&gt; |\n|---|---|---|---|---|---|---|---|---|---|---|---|\n|  35175 |  1 | Grade 1 |  65 | 0.94285715 | 1.0000000 |  91 | 69 | Tana river    | Coast       | No  | 0.6878613 |\n|  40580 |  7 | Grade 2 | 117 | 0.94285715 | 0.9333333 |  92 | 86 | Kisumu        | Nyanza      | No  | 0.8307985 |\n|   9342 |  8 | Grade 5 | 144 | 0.85000002 | 0.7000000 |  43 | 39 | Nairobi       | Nairobi     | No  | 0.8097166 |\n| 858450 | 10 | Grade 5 | 211 | 1.00000000 | 0.7200000 |  86 | 62 | Kisumu        | Nyanza      | Yes | 0.4430894 |\n|    792 | 13 | Grade 3 | 221 | 0.85714287 | 0.9666666 | 104 | 81 | Siaya         | Nyanza      | No  | 0.8821363 |\n| 324884 | 14 | Grade 4 | 267 | 0.92057300 | 0.9000000 |  90 | 67 | Bungoma       | Western     | Yes | 0.2457627 |\n| 230373 | 16 | Grade 3 | 143 | 1.00000000 | 0.7203071 |  81 | 65 | Mombasa       | Coast       | Yes | 0.7744681 |\n| 958934 | 18 | Grade 4 |   0 | 0.09935214 | 0.1600000 |  90 | 80 | Mombasa       | Coast       | Yes | 0.3750000 |\n| 359640 | 27 | Grade 3 | 130 | 1.00000000 | 0.9189060 |  97 | 77 | Kiambu        | Central     | Yes | 0.5672192 |\n| 359640 | 34 | Grade 4 |  26 | 0.63377607 | 0.3000000 |  85 | 59 | Kiambu        | Central     | Yes | 0.3219178 |\n| 297076 | 38 | Grade 4 |  58 | 1.00000000 | 0.3600000 |  65 | 42 | Kwale         | Coast       | Yes | 0.2597403 |\n|  49698 | 39 | Grade 1 |  60 | 0.82857144 | 1.0000000 |  99 | 82 | Mombasa       | Coast       | No  | 0.7032755 |\n| 323877 | 41 | Grade 5 | 131 | 1.00000000 | 0.5200000 |  43 | 37 | Kilifi        | Coast       | Yes | 0.3886640 |\n|   9342 | 42 | Grade 3 | 150 | 0.80000001 | 0.9666666 |  59 | 50 | Nairobi       | Nairobi     | No  | 0.2473118 |\n| 575416 | 46 | Grade 4 |  57 | 0.49534479 | 0.2600000 |  62 | 60 | Kilifi        | Coast       | Yes | 0.1007194 |\n| 601798 | 53 | Grade 3 | 109 | 1.00000000 | 0.7902516 |  99 | 85 | Taita taveta  | Coast       | Yes | 0.7955801 |\n| 155343 | 55 | Grade 3 |  86 | 0.68571430 | 0.5000000 |  88 | 62 | Mombasa       | Coast       | No  | 0.5365854 |\n|   8084 | 57 | Grade 2 |  55 | 0.68571430 | 0.7333333 | 102 | 88 | Kajiado       | Rift Valley | No  | 0.7500000 |\n| 323877 | 65 | Grade 3 | 143 | 0.77625740 | 0.6108233 | 102 | 96 | Kilifi        | Coast       | Yes | 0.8172043 |\n|  28860 | 66 | Grade 1 |  32 | 0.14285715 | 0.9000000 | 102 | 65 | Nairobi       | Nairobi     | No  | 0.7341040 |\n|  10904 | 67 | Grade 1 |  74 | 0.85714287 | 1.0000000 |  75 | 63 | Siaya         | Nyanza      | No  | 0.7605322 |\n| 388800 | 69 | Grade 4 |  79 | 0.78249252 | 0.7000000 |  83 | 69 | Narok         | Rift Valley | Yes | 0.4586466 |\n| 607904 | 70 | Grade 2 |  63 | 1.00000000 | 1.0000000 |  81 | 75 | Kisii         | Nyanza      | Yes | 0.5266160 |\n| 156096 | 73 | Grade 5 | 221 | 0.80000001 | 0.6000000 |  40 | 35 | Tana river    | Coast       | No  | 0.3658537 |\n| 259688 | 76 | Grade 4 | 231 | 1.00000000 | 0.9000000 |  42 | 23 | Migori        | Nyanza      | Yes | 0.5555556 |\n|  73360 | 79 | Grade 5 |  30 | 0.62500000 | 0.3000000 | 100 | 61 | Nairobi       | Nairobi     | No  | 0.6046512 |\n|  14475 | 81 | Grade 3 | 225 | 0.71428573 | 0.8333333 |  97 | 59 | Kiambu        | Central     | No  | 0.6758748 |\n| 501872 | 82 | Grade 3 |  59 | 0.98261225 | 0.7027547 |  69 | 48 | Lamu          | Coast       | Yes | 0.5162455 |\n| 489918 | 83 | Grade 1 |  57 | 1.00000000 | 0.7473882 | 102 | 88 | Tharaka nithi | Eastern     | Yes | 0.6955684 |\n| 223941 | 89 | Grade 4 | 210 | 0.63999999 | 0.7200000 |  63 | 55 | Eastern       | Eastern     | No  | 0.1102362 |\n| ⋮ | ⋮ | ⋮ | ⋮ | ⋮ | ⋮ | ⋮ | ⋮ | ⋮ | ⋮ | ⋮ | ⋮ |\n|   8084 | 27010 | Grade 2 |   6 | 0.1714286 | 0.2666667 | 102 |  43 | Kajiado      | Rift Valley | No  | 0.7500000 |\n| 286984 | 27011 | Grade 3 |  90 | 0.9457485 | 0.7001002 |  59 |  57 | Isiolo       | Eastern     | Yes | 0.5093458 |\n|  32940 | 27013 | Grade 3 | 196 | 0.8571429 | 0.8666667 |  31 |  24 | Tana river   | Coast       | No  | 0.2007366 |\n| 118338 | 27014 | Grade 5 | 140 | 0.0500000 | 0.1600000 |  88 |  86 | Nakuru       | Rift Valley | No  | 0.2267206 |\n| 447445 | 27020 | Grade 1 |  18 | 0.9503101 | 0.8434758 |  60 |  59 | Kwale        | Coast       | Yes | 0.0000000 |\n| 425124 | 27022 | Grade 1 |  88 | 0.9453934 | 0.8657089 |  96 |  85 | Kajiado      | Rift Valley | Yes | 0.8153846 |\n| 491645 | 27023 | Grade 1 |  35 | 0.8202773 | 1.0000000 | 106 |  96 | Nairobi      | Nairobi     | Yes | 0.8554913 |\n|  35175 | 27024 | Grade 5 | 220 | 0.9000000 | 0.7600000 |  55 |  49 | Tana river   | Coast       | No  | 0.4745763 |\n| 356775 | 27025 | Grade 1 |   0 | 0.5321354 | 1.0000000 |  55 |  18 | Kisii        | Nyanza      | Yes | 0.1600000 |\n|  16230 | 27026 | Grade 1 |  85 | 1.0000000 | 0.9666666 | 103 |  85 | Nairobi      | Nairobi     | No  | 0.5279383 |\n| 991980 | 27028 | Grade 2 |  70 | 0.9782379 | 0.9085294 |  73 |  72 | Kilifi       | Coast       | Yes | 0.5380228 |\n| 909600 | 27029 | Grade 1 |  50 | 0.6706557 | 0.6818725 |  87 |  74 | Busia        | Western     | Yes | 0.9826590 |\n| 206948 | 27031 | Grade 5 |   4 | 0.1000000 | 0.1000000 |  51 |  22 | Taita taveta | Coast       | No  | 0.1619433 |\n| 864156 | 27032 | Grade 5 | 252 | 1.0000000 | 0.6400000 |  63 |  28 | Siaya        | Nyanza      | Yes | 0.5894309 |\n| 264915 | 27034 | Grade 3 | 209 | 0.8999282 | 0.7459806 | 106 |  81 | Mombasa      | Coast       | Yes | 0.6707317 |\n| 447445 | 27035 | Grade 2 | 240 | 0.6885827 | 0.3118506 |  92 |  65 | Kwale        | Coast       | Yes | 0.3365019 |\n| 359640 | 27042 | Grade 3 | 174 | 0.6903718 | 0.6891003 |  97 |  76 | Kiambu       | Central     | Yes | 0.5672192 |\n| 491645 | 27044 | Grade 5 | 122 | 1.0000000 | 0.7000000 |  44 |  38 | Nairobi      | Nairobi     | Yes | 0.6599190 |\n|   9342 | 27046 | Grade 2 |  95 | 0.8285714 | 0.6666667 | 100 |  97 | Nairobi      | Nairobi     | No  | 0.6913580 |\n| 264915 | 27048 | Grade 4 | 267 | 0.8023654 | 0.9600000 |  70 |  67 | Mombasa      | Coast       | Yes | 0.2133333 |\n| 406350 | 27049 | Grade 3 | 114 | 0.9544908 | 0.9292173 |  43 |  43 | Mombasa      | Coast       | Yes | 0.7526882 |\n| 259688 | 27052 | Grade 4 |  NA |        NA |        NA |  98 |  63 | Migori       | Nyanza      | Yes | 0.5555556 |\n| 858450 | 27053 | Grade 5 |  76 | 0.7984206 | 0.7600000 |  86 |  59 | Kisumu       | Nyanza      | Yes | 0.4430894 |\n| 329344 | 27055 | Grade 5 | 101 | 0.9257650 | 0.7400000 |  57 |  52 | Taita taveta | Coast       | Yes | 1.0000000 |\n|  47025 | 27056 | Grade 4 | 102 | 0.8000000 | 0.4800000 |  87 |  82 | Nairobi      | Nairobi     | No  | 0.8837209 |\n|  34092 | 27057 | Grade 3 | 162 | 0.6857143 | 0.7333333 |  27 |  22 | Isiolo       | Eastern     | No  | 0.2344398 |\n| 687400 | 27059 | Grade 3 | 113 |        NA | 0.6062492 |  91 |  88 | Kilifi       | Coast       | Yes | 0.4419890 |\n| 314160 | 27061 | Grade 3 | 139 | 0.7433425 | 0.7366351 | 107 | 100 | Migori       | Nyanza      | Yes | 0.9263352 |\n|  39078 | 27062 | Grade 1 |  30 | 0.5142857 | 0.3000000 |  91 |  80 | Kwale        | Coast       | No  | 0.4065511 |\n| 223941 | 27063 | Grade 5 | 185 | 0.5750000 | 0.7200000 |  95 |  58 | Eastern      | Eastern     | No  | 0.1428571 |\n\n",
            "text/latex": "A tibble: 12701 × 12\n\\begin{tabular}{llllllllllll}\n school\\_id & pupil\\_id & grade & Fluency & Kiswahili & Math & attendance\\_records & present\\_records & region & province & tutoring\\_program & lesson\\_completion\\_rate\\\\\n <dbl> & <dbl> & <chr> & <dbl> & <dbl> & <dbl> & <dbl> & <dbl> & <chr> & <chr> & <chr> & <dbl>\\\\\n\\hline\n\t  35175 &  1 & Grade 1 &  65 & 0.94285715 & 1.0000000 &  91 & 69 & Tana river    & Coast       & No  & 0.6878613\\\\\n\t  40580 &  7 & Grade 2 & 117 & 0.94285715 & 0.9333333 &  92 & 86 & Kisumu        & Nyanza      & No  & 0.8307985\\\\\n\t   9342 &  8 & Grade 5 & 144 & 0.85000002 & 0.7000000 &  43 & 39 & Nairobi       & Nairobi     & No  & 0.8097166\\\\\n\t 858450 & 10 & Grade 5 & 211 & 1.00000000 & 0.7200000 &  86 & 62 & Kisumu        & Nyanza      & Yes & 0.4430894\\\\\n\t    792 & 13 & Grade 3 & 221 & 0.85714287 & 0.9666666 & 104 & 81 & Siaya         & Nyanza      & No  & 0.8821363\\\\\n\t 324884 & 14 & Grade 4 & 267 & 0.92057300 & 0.9000000 &  90 & 67 & Bungoma       & Western     & Yes & 0.2457627\\\\\n\t 230373 & 16 & Grade 3 & 143 & 1.00000000 & 0.7203071 &  81 & 65 & Mombasa       & Coast       & Yes & 0.7744681\\\\\n\t 958934 & 18 & Grade 4 &   0 & 0.09935214 & 0.1600000 &  90 & 80 & Mombasa       & Coast       & Yes & 0.3750000\\\\\n\t 359640 & 27 & Grade 3 & 130 & 1.00000000 & 0.9189060 &  97 & 77 & Kiambu        & Central     & Yes & 0.5672192\\\\\n\t 359640 & 34 & Grade 4 &  26 & 0.63377607 & 0.3000000 &  85 & 59 & Kiambu        & Central     & Yes & 0.3219178\\\\\n\t 297076 & 38 & Grade 4 &  58 & 1.00000000 & 0.3600000 &  65 & 42 & Kwale         & Coast       & Yes & 0.2597403\\\\\n\t  49698 & 39 & Grade 1 &  60 & 0.82857144 & 1.0000000 &  99 & 82 & Mombasa       & Coast       & No  & 0.7032755\\\\\n\t 323877 & 41 & Grade 5 & 131 & 1.00000000 & 0.5200000 &  43 & 37 & Kilifi        & Coast       & Yes & 0.3886640\\\\\n\t   9342 & 42 & Grade 3 & 150 & 0.80000001 & 0.9666666 &  59 & 50 & Nairobi       & Nairobi     & No  & 0.2473118\\\\\n\t 575416 & 46 & Grade 4 &  57 & 0.49534479 & 0.2600000 &  62 & 60 & Kilifi        & Coast       & Yes & 0.1007194\\\\\n\t 601798 & 53 & Grade 3 & 109 & 1.00000000 & 0.7902516 &  99 & 85 & Taita taveta  & Coast       & Yes & 0.7955801\\\\\n\t 155343 & 55 & Grade 3 &  86 & 0.68571430 & 0.5000000 &  88 & 62 & Mombasa       & Coast       & No  & 0.5365854\\\\\n\t   8084 & 57 & Grade 2 &  55 & 0.68571430 & 0.7333333 & 102 & 88 & Kajiado       & Rift Valley & No  & 0.7500000\\\\\n\t 323877 & 65 & Grade 3 & 143 & 0.77625740 & 0.6108233 & 102 & 96 & Kilifi        & Coast       & Yes & 0.8172043\\\\\n\t  28860 & 66 & Grade 1 &  32 & 0.14285715 & 0.9000000 & 102 & 65 & Nairobi       & Nairobi     & No  & 0.7341040\\\\\n\t  10904 & 67 & Grade 1 &  74 & 0.85714287 & 1.0000000 &  75 & 63 & Siaya         & Nyanza      & No  & 0.7605322\\\\\n\t 388800 & 69 & Grade 4 &  79 & 0.78249252 & 0.7000000 &  83 & 69 & Narok         & Rift Valley & Yes & 0.4586466\\\\\n\t 607904 & 70 & Grade 2 &  63 & 1.00000000 & 1.0000000 &  81 & 75 & Kisii         & Nyanza      & Yes & 0.5266160\\\\\n\t 156096 & 73 & Grade 5 & 221 & 0.80000001 & 0.6000000 &  40 & 35 & Tana river    & Coast       & No  & 0.3658537\\\\\n\t 259688 & 76 & Grade 4 & 231 & 1.00000000 & 0.9000000 &  42 & 23 & Migori        & Nyanza      & Yes & 0.5555556\\\\\n\t  73360 & 79 & Grade 5 &  30 & 0.62500000 & 0.3000000 & 100 & 61 & Nairobi       & Nairobi     & No  & 0.6046512\\\\\n\t  14475 & 81 & Grade 3 & 225 & 0.71428573 & 0.8333333 &  97 & 59 & Kiambu        & Central     & No  & 0.6758748\\\\\n\t 501872 & 82 & Grade 3 &  59 & 0.98261225 & 0.7027547 &  69 & 48 & Lamu          & Coast       & Yes & 0.5162455\\\\\n\t 489918 & 83 & Grade 1 &  57 & 1.00000000 & 0.7473882 & 102 & 88 & Tharaka nithi & Eastern     & Yes & 0.6955684\\\\\n\t 223941 & 89 & Grade 4 & 210 & 0.63999999 & 0.7200000 &  63 & 55 & Eastern       & Eastern     & No  & 0.1102362\\\\\n\t ⋮ & ⋮ & ⋮ & ⋮ & ⋮ & ⋮ & ⋮ & ⋮ & ⋮ & ⋮ & ⋮ & ⋮\\\\\n\t   8084 & 27010 & Grade 2 &   6 & 0.1714286 & 0.2666667 & 102 &  43 & Kajiado      & Rift Valley & No  & 0.7500000\\\\\n\t 286984 & 27011 & Grade 3 &  90 & 0.9457485 & 0.7001002 &  59 &  57 & Isiolo       & Eastern     & Yes & 0.5093458\\\\\n\t  32940 & 27013 & Grade 3 & 196 & 0.8571429 & 0.8666667 &  31 &  24 & Tana river   & Coast       & No  & 0.2007366\\\\\n\t 118338 & 27014 & Grade 5 & 140 & 0.0500000 & 0.1600000 &  88 &  86 & Nakuru       & Rift Valley & No  & 0.2267206\\\\\n\t 447445 & 27020 & Grade 1 &  18 & 0.9503101 & 0.8434758 &  60 &  59 & Kwale        & Coast       & Yes & 0.0000000\\\\\n\t 425124 & 27022 & Grade 1 &  88 & 0.9453934 & 0.8657089 &  96 &  85 & Kajiado      & Rift Valley & Yes & 0.8153846\\\\\n\t 491645 & 27023 & Grade 1 &  35 & 0.8202773 & 1.0000000 & 106 &  96 & Nairobi      & Nairobi     & Yes & 0.8554913\\\\\n\t  35175 & 27024 & Grade 5 & 220 & 0.9000000 & 0.7600000 &  55 &  49 & Tana river   & Coast       & No  & 0.4745763\\\\\n\t 356775 & 27025 & Grade 1 &   0 & 0.5321354 & 1.0000000 &  55 &  18 & Kisii        & Nyanza      & Yes & 0.1600000\\\\\n\t  16230 & 27026 & Grade 1 &  85 & 1.0000000 & 0.9666666 & 103 &  85 & Nairobi      & Nairobi     & No  & 0.5279383\\\\\n\t 991980 & 27028 & Grade 2 &  70 & 0.9782379 & 0.9085294 &  73 &  72 & Kilifi       & Coast       & Yes & 0.5380228\\\\\n\t 909600 & 27029 & Grade 1 &  50 & 0.6706557 & 0.6818725 &  87 &  74 & Busia        & Western     & Yes & 0.9826590\\\\\n\t 206948 & 27031 & Grade 5 &   4 & 0.1000000 & 0.1000000 &  51 &  22 & Taita taveta & Coast       & No  & 0.1619433\\\\\n\t 864156 & 27032 & Grade 5 & 252 & 1.0000000 & 0.6400000 &  63 &  28 & Siaya        & Nyanza      & Yes & 0.5894309\\\\\n\t 264915 & 27034 & Grade 3 & 209 & 0.8999282 & 0.7459806 & 106 &  81 & Mombasa      & Coast       & Yes & 0.6707317\\\\\n\t 447445 & 27035 & Grade 2 & 240 & 0.6885827 & 0.3118506 &  92 &  65 & Kwale        & Coast       & Yes & 0.3365019\\\\\n\t 359640 & 27042 & Grade 3 & 174 & 0.6903718 & 0.6891003 &  97 &  76 & Kiambu       & Central     & Yes & 0.5672192\\\\\n\t 491645 & 27044 & Grade 5 & 122 & 1.0000000 & 0.7000000 &  44 &  38 & Nairobi      & Nairobi     & Yes & 0.6599190\\\\\n\t   9342 & 27046 & Grade 2 &  95 & 0.8285714 & 0.6666667 & 100 &  97 & Nairobi      & Nairobi     & No  & 0.6913580\\\\\n\t 264915 & 27048 & Grade 4 & 267 & 0.8023654 & 0.9600000 &  70 &  67 & Mombasa      & Coast       & Yes & 0.2133333\\\\\n\t 406350 & 27049 & Grade 3 & 114 & 0.9544908 & 0.9292173 &  43 &  43 & Mombasa      & Coast       & Yes & 0.7526882\\\\\n\t 259688 & 27052 & Grade 4 &  NA &        NA &        NA &  98 &  63 & Migori       & Nyanza      & Yes & 0.5555556\\\\\n\t 858450 & 27053 & Grade 5 &  76 & 0.7984206 & 0.7600000 &  86 &  59 & Kisumu       & Nyanza      & Yes & 0.4430894\\\\\n\t 329344 & 27055 & Grade 5 & 101 & 0.9257650 & 0.7400000 &  57 &  52 & Taita taveta & Coast       & Yes & 1.0000000\\\\\n\t  47025 & 27056 & Grade 4 & 102 & 0.8000000 & 0.4800000 &  87 &  82 & Nairobi      & Nairobi     & No  & 0.8837209\\\\\n\t  34092 & 27057 & Grade 3 & 162 & 0.6857143 & 0.7333333 &  27 &  22 & Isiolo       & Eastern     & No  & 0.2344398\\\\\n\t 687400 & 27059 & Grade 3 & 113 &        NA & 0.6062492 &  91 &  88 & Kilifi       & Coast       & Yes & 0.4419890\\\\\n\t 314160 & 27061 & Grade 3 & 139 & 0.7433425 & 0.7366351 & 107 & 100 & Migori       & Nyanza      & Yes & 0.9263352\\\\\n\t  39078 & 27062 & Grade 1 &  30 & 0.5142857 & 0.3000000 &  91 &  80 & Kwale        & Coast       & No  & 0.4065511\\\\\n\t 223941 & 27063 & Grade 5 & 185 & 0.5750000 & 0.7200000 &  95 &  58 & Eastern      & Eastern     & No  & 0.1428571\\\\\n\\end{tabular}\n",
            "text/plain": [
              "      school_id pupil_id grade   Fluency Kiswahili  Math     \n",
              "1      35175     1       Grade 1  65     0.94285715 1.0000000\n",
              "2      40580     7       Grade 2 117     0.94285715 0.9333333\n",
              "3       9342     8       Grade 5 144     0.85000002 0.7000000\n",
              "4     858450    10       Grade 5 211     1.00000000 0.7200000\n",
              "5        792    13       Grade 3 221     0.85714287 0.9666666\n",
              "6     324884    14       Grade 4 267     0.92057300 0.9000000\n",
              "7     230373    16       Grade 3 143     1.00000000 0.7203071\n",
              "8     958934    18       Grade 4   0     0.09935214 0.1600000\n",
              "9     359640    27       Grade 3 130     1.00000000 0.9189060\n",
              "10    359640    34       Grade 4  26     0.63377607 0.3000000\n",
              "11    297076    38       Grade 4  58     1.00000000 0.3600000\n",
              "12     49698    39       Grade 1  60     0.82857144 1.0000000\n",
              "13    323877    41       Grade 5 131     1.00000000 0.5200000\n",
              "14      9342    42       Grade 3 150     0.80000001 0.9666666\n",
              "15    575416    46       Grade 4  57     0.49534479 0.2600000\n",
              "16    601798    53       Grade 3 109     1.00000000 0.7902516\n",
              "17    155343    55       Grade 3  86     0.68571430 0.5000000\n",
              "18      8084    57       Grade 2  55     0.68571430 0.7333333\n",
              "19    323877    65       Grade 3 143     0.77625740 0.6108233\n",
              "20     28860    66       Grade 1  32     0.14285715 0.9000000\n",
              "21     10904    67       Grade 1  74     0.85714287 1.0000000\n",
              "22    388800    69       Grade 4  79     0.78249252 0.7000000\n",
              "23    607904    70       Grade 2  63     1.00000000 1.0000000\n",
              "24    156096    73       Grade 5 221     0.80000001 0.6000000\n",
              "25    259688    76       Grade 4 231     1.00000000 0.9000000\n",
              "26     73360    79       Grade 5  30     0.62500000 0.3000000\n",
              "27     14475    81       Grade 3 225     0.71428573 0.8333333\n",
              "28    501872    82       Grade 3  59     0.98261225 0.7027547\n",
              "29    489918    83       Grade 1  57     1.00000000 0.7473882\n",
              "30    223941    89       Grade 4 210     0.63999999 0.7200000\n",
              "⋮     ⋮         ⋮        ⋮       ⋮       ⋮          ⋮        \n",
              "12672   8084    27010    Grade 2   6     0.1714286  0.2666667\n",
              "12673 286984    27011    Grade 3  90     0.9457485  0.7001002\n",
              "12674  32940    27013    Grade 3 196     0.8571429  0.8666667\n",
              "12675 118338    27014    Grade 5 140     0.0500000  0.1600000\n",
              "12676 447445    27020    Grade 1  18     0.9503101  0.8434758\n",
              "12677 425124    27022    Grade 1  88     0.9453934  0.8657089\n",
              "12678 491645    27023    Grade 1  35     0.8202773  1.0000000\n",
              "12679  35175    27024    Grade 5 220     0.9000000  0.7600000\n",
              "12680 356775    27025    Grade 1   0     0.5321354  1.0000000\n",
              "12681  16230    27026    Grade 1  85     1.0000000  0.9666666\n",
              "12682 991980    27028    Grade 2  70     0.9782379  0.9085294\n",
              "12683 909600    27029    Grade 1  50     0.6706557  0.6818725\n",
              "12684 206948    27031    Grade 5   4     0.1000000  0.1000000\n",
              "12685 864156    27032    Grade 5 252     1.0000000  0.6400000\n",
              "12686 264915    27034    Grade 3 209     0.8999282  0.7459806\n",
              "12687 447445    27035    Grade 2 240     0.6885827  0.3118506\n",
              "12688 359640    27042    Grade 3 174     0.6903718  0.6891003\n",
              "12689 491645    27044    Grade 5 122     1.0000000  0.7000000\n",
              "12690   9342    27046    Grade 2  95     0.8285714  0.6666667\n",
              "12691 264915    27048    Grade 4 267     0.8023654  0.9600000\n",
              "12692 406350    27049    Grade 3 114     0.9544908  0.9292173\n",
              "12693 259688    27052    Grade 4  NA            NA         NA\n",
              "12694 858450    27053    Grade 5  76     0.7984206  0.7600000\n",
              "12695 329344    27055    Grade 5 101     0.9257650  0.7400000\n",
              "12696  47025    27056    Grade 4 102     0.8000000  0.4800000\n",
              "12697  34092    27057    Grade 3 162     0.6857143  0.7333333\n",
              "12698 687400    27059    Grade 3 113            NA  0.6062492\n",
              "12699 314160    27061    Grade 3 139     0.7433425  0.7366351\n",
              "12700  39078    27062    Grade 1  30     0.5142857  0.3000000\n",
              "12701 223941    27063    Grade 5 185     0.5750000  0.7200000\n",
              "      attendance_records present_records region        province   \n",
              "1      91                69              Tana river    Coast      \n",
              "2      92                86              Kisumu        Nyanza     \n",
              "3      43                39              Nairobi       Nairobi    \n",
              "4      86                62              Kisumu        Nyanza     \n",
              "5     104                81              Siaya         Nyanza     \n",
              "6      90                67              Bungoma       Western    \n",
              "7      81                65              Mombasa       Coast      \n",
              "8      90                80              Mombasa       Coast      \n",
              "9      97                77              Kiambu        Central    \n",
              "10     85                59              Kiambu        Central    \n",
              "11     65                42              Kwale         Coast      \n",
              "12     99                82              Mombasa       Coast      \n",
              "13     43                37              Kilifi        Coast      \n",
              "14     59                50              Nairobi       Nairobi    \n",
              "15     62                60              Kilifi        Coast      \n",
              "16     99                85              Taita taveta  Coast      \n",
              "17     88                62              Mombasa       Coast      \n",
              "18    102                88              Kajiado       Rift Valley\n",
              "19    102                96              Kilifi        Coast      \n",
              "20    102                65              Nairobi       Nairobi    \n",
              "21     75                63              Siaya         Nyanza     \n",
              "22     83                69              Narok         Rift Valley\n",
              "23     81                75              Kisii         Nyanza     \n",
              "24     40                35              Tana river    Coast      \n",
              "25     42                23              Migori        Nyanza     \n",
              "26    100                61              Nairobi       Nairobi    \n",
              "27     97                59              Kiambu        Central    \n",
              "28     69                48              Lamu          Coast      \n",
              "29    102                88              Tharaka nithi Eastern    \n",
              "30     63                55              Eastern       Eastern    \n",
              "⋮     ⋮                  ⋮               ⋮             ⋮          \n",
              "12672 102                 43             Kajiado       Rift Valley\n",
              "12673  59                 57             Isiolo        Eastern    \n",
              "12674  31                 24             Tana river    Coast      \n",
              "12675  88                 86             Nakuru        Rift Valley\n",
              "12676  60                 59             Kwale         Coast      \n",
              "12677  96                 85             Kajiado       Rift Valley\n",
              "12678 106                 96             Nairobi       Nairobi    \n",
              "12679  55                 49             Tana river    Coast      \n",
              "12680  55                 18             Kisii         Nyanza     \n",
              "12681 103                 85             Nairobi       Nairobi    \n",
              "12682  73                 72             Kilifi        Coast      \n",
              "12683  87                 74             Busia         Western    \n",
              "12684  51                 22             Taita taveta  Coast      \n",
              "12685  63                 28             Siaya         Nyanza     \n",
              "12686 106                 81             Mombasa       Coast      \n",
              "12687  92                 65             Kwale         Coast      \n",
              "12688  97                 76             Kiambu        Central    \n",
              "12689  44                 38             Nairobi       Nairobi    \n",
              "12690 100                 97             Nairobi       Nairobi    \n",
              "12691  70                 67             Mombasa       Coast      \n",
              "12692  43                 43             Mombasa       Coast      \n",
              "12693  98                 63             Migori        Nyanza     \n",
              "12694  86                 59             Kisumu        Nyanza     \n",
              "12695  57                 52             Taita taveta  Coast      \n",
              "12696  87                 82             Nairobi       Nairobi    \n",
              "12697  27                 22             Isiolo        Eastern    \n",
              "12698  91                 88             Kilifi        Coast      \n",
              "12699 107                100             Migori        Nyanza     \n",
              "12700  91                 80             Kwale         Coast      \n",
              "12701  95                 58             Eastern       Eastern    \n",
              "      tutoring_program lesson_completion_rate\n",
              "1     No               0.6878613             \n",
              "2     No               0.8307985             \n",
              "3     No               0.8097166             \n",
              "4     Yes              0.4430894             \n",
              "5     No               0.8821363             \n",
              "6     Yes              0.2457627             \n",
              "7     Yes              0.7744681             \n",
              "8     Yes              0.3750000             \n",
              "9     Yes              0.5672192             \n",
              "10    Yes              0.3219178             \n",
              "11    Yes              0.2597403             \n",
              "12    No               0.7032755             \n",
              "13    Yes              0.3886640             \n",
              "14    No               0.2473118             \n",
              "15    Yes              0.1007194             \n",
              "16    Yes              0.7955801             \n",
              "17    No               0.5365854             \n",
              "18    No               0.7500000             \n",
              "19    Yes              0.8172043             \n",
              "20    No               0.7341040             \n",
              "21    No               0.7605322             \n",
              "22    Yes              0.4586466             \n",
              "23    Yes              0.5266160             \n",
              "24    No               0.3658537             \n",
              "25    Yes              0.5555556             \n",
              "26    No               0.6046512             \n",
              "27    No               0.6758748             \n",
              "28    Yes              0.5162455             \n",
              "29    Yes              0.6955684             \n",
              "30    No               0.1102362             \n",
              "⋮     ⋮                ⋮                     \n",
              "12672 No               0.7500000             \n",
              "12673 Yes              0.5093458             \n",
              "12674 No               0.2007366             \n",
              "12675 No               0.2267206             \n",
              "12676 Yes              0.0000000             \n",
              "12677 Yes              0.8153846             \n",
              "12678 Yes              0.8554913             \n",
              "12679 No               0.4745763             \n",
              "12680 Yes              0.1600000             \n",
              "12681 No               0.5279383             \n",
              "12682 Yes              0.5380228             \n",
              "12683 Yes              0.9826590             \n",
              "12684 No               0.1619433             \n",
              "12685 Yes              0.5894309             \n",
              "12686 Yes              0.6707317             \n",
              "12687 Yes              0.3365019             \n",
              "12688 Yes              0.5672192             \n",
              "12689 Yes              0.6599190             \n",
              "12690 No               0.6913580             \n",
              "12691 Yes              0.2133333             \n",
              "12692 Yes              0.7526882             \n",
              "12693 Yes              0.5555556             \n",
              "12694 Yes              0.4430894             \n",
              "12695 Yes              1.0000000             \n",
              "12696 No               0.8837209             \n",
              "12697 No               0.2344398             \n",
              "12698 Yes              0.4419890             \n",
              "12699 Yes              0.9263352             \n",
              "12700 No               0.4065511             \n",
              "12701 No               0.1428571             "
            ]
          },
          "metadata": {}
        }
      ]
    },
    {
      "cell_type": "code",
      "source": [
        "#install.packages(\"writexl\")\n",
        "library(writexl)\n",
        "write_xlsx(final_student_level_df, \"final_student_level_data.xlsx\")"
      ],
      "metadata": {
        "id": "AHA_joG9T8oa"
      },
      "execution_count": null,
      "outputs": []
    },
    {
      "cell_type": "markdown",
      "source": [
        "<h1> Step 2: Calculating KPIs  </h2>"
      ],
      "metadata": {
        "id": "U3tjo93OrpHt"
      }
    },
    {
      "cell_type": "markdown",
      "source": [
        "To calculate the KPI \"Percent Pupils Present\" we have to calculate the KPI for all pupils at once to find the network-level average and then calculate it for each school to find the school-level averages. This will help us in understanding how the interpretation of the KPI changes based on the aggregation level."
      ],
      "metadata": {
        "id": "Bmtuafv3r8SM"
      }
    },
    {
      "cell_type": "code",
      "source": [
        "head(pupil_attendance, 5)"
      ],
      "metadata": {
        "colab": {
          "base_uri": "https://localhost:8080/",
          "height": 255
        },
        "id": "IaxViwOAQOJz",
        "outputId": "5eb00d83-0510-46eb-e015-6339a4010939"
      },
      "execution_count": null,
      "outputs": [
        {
          "output_type": "display_data",
          "data": {
            "text/html": [
              "<table class=\"dataframe\">\n",
              "<caption>A tibble: 5 × 5</caption>\n",
              "<thead>\n",
              "\t<tr><th scope=col>school_id</th><th scope=col>pupil_id</th><th scope=col>grade</th><th scope=col>attendance_records</th><th scope=col>present_records</th></tr>\n",
              "\t<tr><th scope=col>&lt;dbl&gt;</th><th scope=col>&lt;dbl&gt;</th><th scope=col>&lt;chr&gt;</th><th scope=col>&lt;dbl&gt;</th><th scope=col>&lt;dbl&gt;</th></tr>\n",
              "</thead>\n",
              "<tbody>\n",
              "\t<tr><td> 35175</td><td> 1</td><td>Grade 1</td><td> 91</td><td>69</td></tr>\n",
              "\t<tr><td> 40580</td><td> 7</td><td>Grade 2</td><td> 92</td><td>86</td></tr>\n",
              "\t<tr><td>  9342</td><td> 8</td><td>Grade 5</td><td> 43</td><td>39</td></tr>\n",
              "\t<tr><td>858450</td><td>10</td><td>Grade 5</td><td> 86</td><td>62</td></tr>\n",
              "\t<tr><td>   792</td><td>13</td><td>Grade 3</td><td>104</td><td>81</td></tr>\n",
              "</tbody>\n",
              "</table>\n"
            ],
            "text/markdown": "\nA tibble: 5 × 5\n\n| school_id &lt;dbl&gt; | pupil_id &lt;dbl&gt; | grade &lt;chr&gt; | attendance_records &lt;dbl&gt; | present_records &lt;dbl&gt; |\n|---|---|---|---|---|\n|  35175 |  1 | Grade 1 |  91 | 69 |\n|  40580 |  7 | Grade 2 |  92 | 86 |\n|   9342 |  8 | Grade 5 |  43 | 39 |\n| 858450 | 10 | Grade 5 |  86 | 62 |\n|    792 | 13 | Grade 3 | 104 | 81 |\n\n",
            "text/latex": "A tibble: 5 × 5\n\\begin{tabular}{lllll}\n school\\_id & pupil\\_id & grade & attendance\\_records & present\\_records\\\\\n <dbl> & <dbl> & <chr> & <dbl> & <dbl>\\\\\n\\hline\n\t  35175 &  1 & Grade 1 &  91 & 69\\\\\n\t  40580 &  7 & Grade 2 &  92 & 86\\\\\n\t   9342 &  8 & Grade 5 &  43 & 39\\\\\n\t 858450 & 10 & Grade 5 &  86 & 62\\\\\n\t    792 & 13 & Grade 3 & 104 & 81\\\\\n\\end{tabular}\n",
            "text/plain": [
              "  school_id pupil_id grade   attendance_records present_records\n",
              "1  35175     1       Grade 1  91                69             \n",
              "2  40580     7       Grade 2  92                86             \n",
              "3   9342     8       Grade 5  43                39             \n",
              "4 858450    10       Grade 5  86                62             \n",
              "5    792    13       Grade 3 104                81             "
            ]
          },
          "metadata": {}
        }
      ]
    },
    {
      "cell_type": "code",
      "source": [
        "# Calculating total present and attendance records for all pupils\n",
        "total_present <- sum(pupil_attendance$present_records)\n",
        "total_attendance <- sum(pupil_attendance$attendance_records)"
      ],
      "metadata": {
        "id": "KnNSw1Gaoa2m"
      },
      "execution_count": null,
      "outputs": []
    },
    {
      "cell_type": "code",
      "source": [
        "total_present"
      ],
      "metadata": {
        "colab": {
          "base_uri": "https://localhost:8080/",
          "height": 34
        },
        "id": "QKmCk0w5s0Q5",
        "outputId": "40dbefcc-5ef4-48ad-a85c-23610f0c430e"
      },
      "execution_count": null,
      "outputs": [
        {
          "output_type": "display_data",
          "data": {
            "text/html": [
              "792039"
            ],
            "text/markdown": "792039",
            "text/latex": "792039",
            "text/plain": [
              "[1] 792039"
            ]
          },
          "metadata": {}
        }
      ]
    },
    {
      "cell_type": "code",
      "source": [
        "total_attendance"
      ],
      "metadata": {
        "colab": {
          "base_uri": "https://localhost:8080/",
          "height": 34
        },
        "id": "2JQUhMp4tLKq",
        "outputId": "65095406-d92c-47c1-bea6-f76c48590e9d"
      },
      "execution_count": null,
      "outputs": [
        {
          "output_type": "display_data",
          "data": {
            "text/html": [
              "1045175"
            ],
            "text/markdown": "1045175",
            "text/latex": "1045175",
            "text/plain": [
              "[1] 1045175"
            ]
          },
          "metadata": {}
        }
      ]
    },
    {
      "cell_type": "markdown",
      "source": [
        "Out of **1045175** total number of days of lecture, student were only able to attend **792039** number of times, being a **75.78%** attendance record, which happens not to be entirely bad,  but could equally be improved on"
      ],
      "metadata": {
        "id": "ObmuT0uZIww6"
      }
    },
    {
      "cell_type": "code",
      "source": [
        "# Calculating network-level average percent pupils present\n",
        "network_level_percent_present <- round( (total_present / total_attendance) * 100, 2)"
      ],
      "metadata": {
        "id": "M49rGI-AoiO0"
      },
      "execution_count": null,
      "outputs": []
    },
    {
      "cell_type": "code",
      "source": [
        "network_level_percent_present"
      ],
      "metadata": {
        "colab": {
          "base_uri": "https://localhost:8080/",
          "height": 34
        },
        "id": "4-zMBaqMtX6I",
        "outputId": "795094ea-f82c-481b-fdfb-41f086c44d89"
      },
      "execution_count": null,
      "outputs": [
        {
          "output_type": "display_data",
          "data": {
            "text/html": [
              "75.78"
            ],
            "text/markdown": "75.78",
            "text/latex": "75.78",
            "text/plain": [
              "[1] 75.78"
            ]
          },
          "metadata": {}
        }
      ]
    },
    {
      "cell_type": "code",
      "source": [
        "print(sprintf(\"%.2f%%\", network_level_percent_present))"
      ],
      "metadata": {
        "colab": {
          "base_uri": "https://localhost:8080/"
        },
        "id": "FhvqbL3VsvNG",
        "outputId": "cb4ecfe2-6f48-4c80-9167-c2b1357cb652"
      },
      "execution_count": null,
      "outputs": [
        {
          "output_type": "stream",
          "name": "stdout",
          "text": [
            "[1] \"75.78%\"\n"
          ]
        }
      ]
    },
    {
      "cell_type": "markdown",
      "source": [
        "<h1> Step 2: Calculating School-Level Average Percent Pupils Present </h1>"
      ],
      "metadata": {
        "id": "FHGk4aCfuHI3"
      }
    },
    {
      "cell_type": "code",
      "source": [
        "# Calculating percent present for each school\n",
        "pupil_attendance <- pupil_attendance %>%\n",
        "  mutate(Percent_present = round((present_records / attendance_records) * 100,2))"
      ],
      "metadata": {
        "id": "ph6mo7aHttzz"
      },
      "execution_count": null,
      "outputs": []
    },
    {
      "cell_type": "code",
      "source": [
        "head(pupil_attendance, 5)"
      ],
      "metadata": {
        "colab": {
          "base_uri": "https://localhost:8080/",
          "height": 255
        },
        "id": "wTZ9AGovuqvh",
        "outputId": "06680e9c-93e9-4cb0-d201-57e382211dd8"
      },
      "execution_count": null,
      "outputs": [
        {
          "output_type": "display_data",
          "data": {
            "text/html": [
              "<table class=\"dataframe\">\n",
              "<caption>A tibble: 5 × 6</caption>\n",
              "<thead>\n",
              "\t<tr><th scope=col>school_id</th><th scope=col>pupil_id</th><th scope=col>grade</th><th scope=col>attendance_records</th><th scope=col>present_records</th><th scope=col>Percent_present</th></tr>\n",
              "\t<tr><th scope=col>&lt;dbl&gt;</th><th scope=col>&lt;dbl&gt;</th><th scope=col>&lt;chr&gt;</th><th scope=col>&lt;dbl&gt;</th><th scope=col>&lt;dbl&gt;</th><th scope=col>&lt;dbl&gt;</th></tr>\n",
              "</thead>\n",
              "<tbody>\n",
              "\t<tr><td> 35175</td><td> 1</td><td>Grade 1</td><td> 91</td><td>69</td><td>75.82</td></tr>\n",
              "\t<tr><td> 40580</td><td> 7</td><td>Grade 2</td><td> 92</td><td>86</td><td>93.48</td></tr>\n",
              "\t<tr><td>  9342</td><td> 8</td><td>Grade 5</td><td> 43</td><td>39</td><td>90.70</td></tr>\n",
              "\t<tr><td>858450</td><td>10</td><td>Grade 5</td><td> 86</td><td>62</td><td>72.09</td></tr>\n",
              "\t<tr><td>   792</td><td>13</td><td>Grade 3</td><td>104</td><td>81</td><td>77.88</td></tr>\n",
              "</tbody>\n",
              "</table>\n"
            ],
            "text/markdown": "\nA tibble: 5 × 6\n\n| school_id &lt;dbl&gt; | pupil_id &lt;dbl&gt; | grade &lt;chr&gt; | attendance_records &lt;dbl&gt; | present_records &lt;dbl&gt; | Percent_present &lt;dbl&gt; |\n|---|---|---|---|---|---|\n|  35175 |  1 | Grade 1 |  91 | 69 | 75.82 |\n|  40580 |  7 | Grade 2 |  92 | 86 | 93.48 |\n|   9342 |  8 | Grade 5 |  43 | 39 | 90.70 |\n| 858450 | 10 | Grade 5 |  86 | 62 | 72.09 |\n|    792 | 13 | Grade 3 | 104 | 81 | 77.88 |\n\n",
            "text/latex": "A tibble: 5 × 6\n\\begin{tabular}{llllll}\n school\\_id & pupil\\_id & grade & attendance\\_records & present\\_records & Percent\\_present\\\\\n <dbl> & <dbl> & <chr> & <dbl> & <dbl> & <dbl>\\\\\n\\hline\n\t  35175 &  1 & Grade 1 &  91 & 69 & 75.82\\\\\n\t  40580 &  7 & Grade 2 &  92 & 86 & 93.48\\\\\n\t   9342 &  8 & Grade 5 &  43 & 39 & 90.70\\\\\n\t 858450 & 10 & Grade 5 &  86 & 62 & 72.09\\\\\n\t    792 & 13 & Grade 3 & 104 & 81 & 77.88\\\\\n\\end{tabular}\n",
            "text/plain": [
              "  school_id pupil_id grade   attendance_records present_records Percent_present\n",
              "1  35175     1       Grade 1  91                69              75.82          \n",
              "2  40580     7       Grade 2  92                86              93.48          \n",
              "3   9342     8       Grade 5  43                39              90.70          \n",
              "4 858450    10       Grade 5  86                62              72.09          \n",
              "5    792    13       Grade 3 104                81              77.88          "
            ]
          },
          "metadata": {}
        }
      ]
    },
    {
      "cell_type": "markdown",
      "source": [
        "Calculating the percentage for each school, and creating an average at the school-level."
      ],
      "metadata": {
        "id": "2NGorYBqCSCU"
      }
    },
    {
      "cell_type": "code",
      "source": [
        "# Aggregate to school level by calculating the average percent present per school\n",
        "school_level_percent_present <- pupil_attendance %>%\n",
        "  group_by(school_id) %>%\n",
        "  summarise(average_percent_present = mean(Percent_present, na.rm = TRUE))"
      ],
      "metadata": {
        "id": "7eSaeY5wuRgJ"
      },
      "execution_count": null,
      "outputs": []
    },
    {
      "cell_type": "code",
      "source": [
        "head(school_level_percent_present, 5)"
      ],
      "metadata": {
        "colab": {
          "base_uri": "https://localhost:8080/",
          "height": 255
        },
        "id": "iVqunvK1yK95",
        "outputId": "02552cb0-b9c9-4753-f0b6-4a99b6010164"
      },
      "execution_count": null,
      "outputs": [
        {
          "output_type": "display_data",
          "data": {
            "text/html": [
              "<table class=\"dataframe\">\n",
              "<caption>A tibble: 5 × 2</caption>\n",
              "<thead>\n",
              "\t<tr><th scope=col>school_id</th><th scope=col>average_percent_present</th></tr>\n",
              "\t<tr><th scope=col>&lt;dbl&gt;</th><th scope=col>&lt;dbl&gt;</th></tr>\n",
              "</thead>\n",
              "<tbody>\n",
              "\t<tr><td> 416</td><td>74.22756</td></tr>\n",
              "\t<tr><td> 792</td><td>75.60339</td></tr>\n",
              "\t<tr><td>5502</td><td>67.88020</td></tr>\n",
              "\t<tr><td>7956</td><td>76.41091</td></tr>\n",
              "\t<tr><td>8084</td><td>68.45069</td></tr>\n",
              "</tbody>\n",
              "</table>\n"
            ],
            "text/markdown": "\nA tibble: 5 × 2\n\n| school_id &lt;dbl&gt; | average_percent_present &lt;dbl&gt; |\n|---|---|\n|  416 | 74.22756 |\n|  792 | 75.60339 |\n| 5502 | 67.88020 |\n| 7956 | 76.41091 |\n| 8084 | 68.45069 |\n\n",
            "text/latex": "A tibble: 5 × 2\n\\begin{tabular}{ll}\n school\\_id & average\\_percent\\_present\\\\\n <dbl> & <dbl>\\\\\n\\hline\n\t  416 & 74.22756\\\\\n\t  792 & 75.60339\\\\\n\t 5502 & 67.88020\\\\\n\t 7956 & 76.41091\\\\\n\t 8084 & 68.45069\\\\\n\\end{tabular}\n",
            "text/plain": [
              "  school_id average_percent_present\n",
              "1  416      74.22756               \n",
              "2  792      75.60339               \n",
              "3 5502      67.88020               \n",
              "4 7956      76.41091               \n",
              "5 8084      68.45069               "
            ]
          },
          "metadata": {}
        }
      ]
    },
    {
      "cell_type": "code",
      "source": [
        "# Calculate the average of these school-level averages\n",
        "average_school_level_percent_present <- mean(school_level_percent_present$average_percent_present, na.rm = TRUE)"
      ],
      "metadata": {
        "id": "mB1QEYTWuRma"
      },
      "execution_count": null,
      "outputs": []
    },
    {
      "cell_type": "code",
      "source": [
        "print(sprintf(\"%.2f%%\", average_school_level_percent_present))"
      ],
      "metadata": {
        "colab": {
          "base_uri": "https://localhost:8080/"
        },
        "id": "P2IpqkpYuXiR",
        "outputId": "1db1e2d5-e38c-4445-95af-091d91537857"
      },
      "execution_count": null,
      "outputs": [
        {
          "output_type": "stream",
          "name": "stdout",
          "text": [
            "[1] \"75.85%\"\n"
          ]
        }
      ]
    },
    {
      "cell_type": "markdown",
      "source": [
        "<h2> Interpretation and Appropriateness of the Two Approaches </h2>\n",
        "\n",
        "The network-level average provides a broad overview of attendance across all schools, treating every pupil's attendance record equally regardless of the school size or attendance policy. The school-level average, however, accounts for variations between schools by first calculating an average for each school and then averaging these figures. This method can highlight differences in attendance rates that the network-level average might obscure, especially in networks with a wide variance in school sizes or demographics.\n",
        "\n",
        "When to use each approach depends on the analysis goals. The network-level average is useful for assessing overall performance across all schools, while the school-level average is better for understanding how individual schools contribute to the overall attendance rate. The latter approach is more appropriate when school-specific strategies or interventions are being considered, as it can identify outliers or schools that require additional support, while the former is ideal for making generalised conclusion of the entire school population."
      ],
      "metadata": {
        "id": "oZLmha3-zcP7"
      }
    },
    {
      "cell_type": "markdown",
      "source": [
        "\n",
        "<h1> Step 3: Descriptives</h1>\n"
      ],
      "metadata": {
        "id": "b2Mb3lb40c72"
      }
    },
    {
      "cell_type": "markdown",
      "source": [
        ">Question\n",
        "\n",
        "Let’s dig into the reading fluency scores in your current data set. </br>\n",
        "These came from the “Pupil scores” data, but you will need the\n",
        "data set you created in Step 1 above to answer these questions.\n",
        "Please answer the following questions as succinctly as possible.</br>\n",
        "● Please create a figure or a table, whichever you prefer, which shows average fluency scores for each of the five grades. </br>\n",
        "● Which regions (using the “region” variable) have the lowest and highest average fluency score across all grades? </br>\n",
        "● Please create a binary variable that is 1 if a given child reads at 10 or lower, and 0 otherwise. Please create a bar chart\n",
        "with grades on the x-axis, and the share of pupils scoring under this threshold for each grade. </br>\n",
        "● What school has the highest share of pupils scoring under this threshold in grade 3?"
      ],
      "metadata": {
        "id": "m5utNVTOAqvW"
      }
    },
    {
      "cell_type": "code",
      "source": [
        "head (final_student_level_df, 3)"
      ],
      "metadata": {
        "colab": {
          "base_uri": "https://localhost:8080/",
          "height": 192
        },
        "id": "lanWTMIGCZlC",
        "outputId": "b6b79768-c84b-4464-cbae-7f8bbccd3375"
      },
      "execution_count": null,
      "outputs": [
        {
          "output_type": "display_data",
          "data": {
            "text/html": [
              "<table class=\"dataframe\">\n",
              "<caption>A tibble: 3 × 13</caption>\n",
              "<thead>\n",
              "\t<tr><th scope=col>school_id</th><th scope=col>pupil_id</th><th scope=col>grade</th><th scope=col>Fluency</th><th scope=col>Kiswahili</th><th scope=col>Math</th><th scope=col>attendance_records</th><th scope=col>present_records</th><th scope=col>region</th><th scope=col>province</th><th scope=col>tutoring_program</th><th scope=col>teacher_id</th><th scope=col>lesson_completion_rate</th></tr>\n",
              "\t<tr><th scope=col>&lt;dbl&gt;</th><th scope=col>&lt;dbl&gt;</th><th scope=col>&lt;chr&gt;</th><th scope=col>&lt;dbl&gt;</th><th scope=col>&lt;dbl&gt;</th><th scope=col>&lt;dbl&gt;</th><th scope=col>&lt;dbl&gt;</th><th scope=col>&lt;dbl&gt;</th><th scope=col>&lt;chr&gt;</th><th scope=col>&lt;chr&gt;</th><th scope=col>&lt;chr&gt;</th><th scope=col>&lt;dbl&gt;</th><th scope=col>&lt;dbl&gt;</th></tr>\n",
              "</thead>\n",
              "<tbody>\n",
              "\t<tr><td>35175</td><td>1</td><td>Grade 1</td><td> 65</td><td>0.9428571</td><td>1.0000000</td><td>91</td><td>69</td><td>Tana river</td><td>Coast  </td><td>No</td><td>633</td><td>0.6878613</td></tr>\n",
              "\t<tr><td>40580</td><td>7</td><td>Grade 2</td><td>117</td><td>0.9428571</td><td>0.9333333</td><td>92</td><td>86</td><td>Kisumu    </td><td>Nyanza </td><td>No</td><td>613</td><td>0.8307985</td></tr>\n",
              "\t<tr><td> 9342</td><td>8</td><td>Grade 5</td><td>144</td><td>0.8500000</td><td>0.7000000</td><td>43</td><td>39</td><td>Nairobi   </td><td>Nairobi</td><td>No</td><td>710</td><td>0.8097166</td></tr>\n",
              "</tbody>\n",
              "</table>\n"
            ],
            "text/markdown": "\nA tibble: 3 × 13\n\n| school_id &lt;dbl&gt; | pupil_id &lt;dbl&gt; | grade &lt;chr&gt; | Fluency &lt;dbl&gt; | Kiswahili &lt;dbl&gt; | Math &lt;dbl&gt; | attendance_records &lt;dbl&gt; | present_records &lt;dbl&gt; | region &lt;chr&gt; | province &lt;chr&gt; | tutoring_program &lt;chr&gt; | teacher_id &lt;dbl&gt; | lesson_completion_rate &lt;dbl&gt; |\n|---|---|---|---|---|---|---|---|---|---|---|---|---|\n| 35175 | 1 | Grade 1 |  65 | 0.9428571 | 1.0000000 | 91 | 69 | Tana river | Coast   | No | 633 | 0.6878613 |\n| 40580 | 7 | Grade 2 | 117 | 0.9428571 | 0.9333333 | 92 | 86 | Kisumu     | Nyanza  | No | 613 | 0.8307985 |\n|  9342 | 8 | Grade 5 | 144 | 0.8500000 | 0.7000000 | 43 | 39 | Nairobi    | Nairobi | No | 710 | 0.8097166 |\n\n",
            "text/latex": "A tibble: 3 × 13\n\\begin{tabular}{lllllllllllll}\n school\\_id & pupil\\_id & grade & Fluency & Kiswahili & Math & attendance\\_records & present\\_records & region & province & tutoring\\_program & teacher\\_id & lesson\\_completion\\_rate\\\\\n <dbl> & <dbl> & <chr> & <dbl> & <dbl> & <dbl> & <dbl> & <dbl> & <chr> & <chr> & <chr> & <dbl> & <dbl>\\\\\n\\hline\n\t 35175 & 1 & Grade 1 &  65 & 0.9428571 & 1.0000000 & 91 & 69 & Tana river & Coast   & No & 633 & 0.6878613\\\\\n\t 40580 & 7 & Grade 2 & 117 & 0.9428571 & 0.9333333 & 92 & 86 & Kisumu     & Nyanza  & No & 613 & 0.8307985\\\\\n\t  9342 & 8 & Grade 5 & 144 & 0.8500000 & 0.7000000 & 43 & 39 & Nairobi    & Nairobi & No & 710 & 0.8097166\\\\\n\\end{tabular}\n",
            "text/plain": [
              "  school_id pupil_id grade   Fluency Kiswahili Math      attendance_records\n",
              "1 35175     1        Grade 1  65     0.9428571 1.0000000 91                \n",
              "2 40580     7        Grade 2 117     0.9428571 0.9333333 92                \n",
              "3  9342     8        Grade 5 144     0.8500000 0.7000000 43                \n",
              "  present_records region     province tutoring_program teacher_id\n",
              "1 69              Tana river Coast    No               633       \n",
              "2 86              Kisumu     Nyanza   No               613       \n",
              "3 39              Nairobi    Nairobi  No               710       \n",
              "  lesson_completion_rate\n",
              "1 0.6878613             \n",
              "2 0.8307985             \n",
              "3 0.8097166             "
            ]
          },
          "metadata": {}
        }
      ]
    },
    {
      "cell_type": "markdown",
      "source": [
        "<h2> Average Fluency Scores by Grade </h2>"
      ],
      "metadata": {
        "id": "GChiFE-r7gAz"
      }
    },
    {
      "cell_type": "code",
      "source": [
        "# Calculating the average fluency scores for each grade\n",
        "average_fluency_by_grade <- aggregate(Fluency ~ grade, data = final_student_level_df, mean)\n",
        "print(average_fluency_by_grade)\n"
      ],
      "metadata": {
        "colab": {
          "base_uri": "https://localhost:8080/"
        },
        "id": "eboALGof_RqD",
        "outputId": "a224d900-f421-42f6-d056-c34a00920888"
      },
      "execution_count": null,
      "outputs": [
        {
          "output_type": "stream",
          "name": "stdout",
          "text": [
            "    grade   Fluency\n",
            "1 Grade 1  53.08465\n",
            "2 Grade 2 104.39656\n",
            "3 Grade 3 127.39139\n",
            "4 Grade 4 145.47334\n",
            "5 Grade 5 154.93401\n"
          ]
        }
      ]
    },
    {
      "cell_type": "code",
      "source": [
        "ggplot(average_fluency_by_grade, aes(x = grade, y = Fluency)) +\n",
        "   geom_bar(stat = \"identity\", fill='blue') + labs(title = \"Average Fluency Scores by Grade\", x = \"Grade\", y = \"Average Fluency Score\")\n"
      ],
      "metadata": {
        "colab": {
          "base_uri": "https://localhost:8080/",
          "height": 437
        },
        "id": "2erWzoXtzKHz",
        "outputId": "ad979fa5-322b-49b9-e6f1-1a21fb29e7f3"
      },
      "execution_count": null,
      "outputs": [
        {
          "output_type": "display_data",
          "data": {
            "text/plain": [
              "plot without title"
            ],
            "image/png": "[encoded data removed]"
          },
          "metadata": {
            "image/png": {
              "width": 420,
              "height": 420
            }
          }
        }
      ]
    },
    {
      "cell_type": "markdown",
      "source": [
        "<h2> Regions with the Lowest and Highest Average Fluency Score </h2>"
      ],
      "metadata": {
        "id": "pEuk5noG7mH6"
      }
    },
    {
      "cell_type": "code",
      "source": [
        "# Calculate average fluency score by region\n",
        "average_fluency_by_region <- aggregate(Fluency ~ region, data = final_student_level_df, mean)"
      ],
      "metadata": {
        "id": "VDhick-j1OxR"
      },
      "execution_count": null,
      "outputs": []
    },
    {
      "cell_type": "code",
      "source": [
        "average_fluency_by_region"
      ],
      "metadata": {
        "colab": {
          "base_uri": "https://localhost:8080/",
          "height": 1000
        },
        "id": "4Yzfuq2M9ADX",
        "outputId": "3a4252a3-63fb-4e51-8e59-1323fb7f9922"
      },
      "execution_count": null,
      "outputs": [
        {
          "output_type": "display_data",
          "data": {
            "text/html": [
              "<table class=\"dataframe\">\n",
              "<caption>A data.frame: 31 × 2</caption>\n",
              "<thead>\n",
              "\t<tr><th scope=col>region</th><th scope=col>Fluency</th></tr>\n",
              "\t<tr><th scope=col>&lt;chr&gt;</th><th scope=col>&lt;dbl&gt;</th></tr>\n",
              "</thead>\n",
              "<tbody>\n",
              "\t<tr><td>Bomet        </td><td> 68.44118</td></tr>\n",
              "\t<tr><td>Bungoma      </td><td>144.76892</td></tr>\n",
              "\t<tr><td>Busia        </td><td>113.89706</td></tr>\n",
              "\t<tr><td>Eastern      </td><td>110.16316</td></tr>\n",
              "\t<tr><td>Embu         </td><td>124.83544</td></tr>\n",
              "\t<tr><td>Homa bay     </td><td>122.28859</td></tr>\n",
              "\t<tr><td>Isiolo       </td><td> 98.44201</td></tr>\n",
              "\t<tr><td>Kajiado      </td><td> 92.56944</td></tr>\n",
              "\t<tr><td>Kakamega     </td><td>105.60656</td></tr>\n",
              "\t<tr><td>Kiambu       </td><td> 92.00782</td></tr>\n",
              "\t<tr><td>Kilifi       </td><td>119.01361</td></tr>\n",
              "\t<tr><td>Kirinyaga    </td><td> 60.31395</td></tr>\n",
              "\t<tr><td>Kisii        </td><td>120.58716</td></tr>\n",
              "\t<tr><td>Kisumu       </td><td>127.69302</td></tr>\n",
              "\t<tr><td>Kitui        </td><td>130.26168</td></tr>\n",
              "\t<tr><td>Kwale        </td><td>123.58213</td></tr>\n",
              "\t<tr><td>Lamu         </td><td> 93.40984</td></tr>\n",
              "\t<tr><td>Machakos     </td><td>157.76364</td></tr>\n",
              "\t<tr><td>Migori       </td><td>125.10212</td></tr>\n",
              "\t<tr><td>Mombasa      </td><td>117.33739</td></tr>\n",
              "\t<tr><td>Nairobi      </td><td> 87.92357</td></tr>\n",
              "\t<tr><td>Nakuru       </td><td>104.36364</td></tr>\n",
              "\t<tr><td>Narok        </td><td>128.51042</td></tr>\n",
              "\t<tr><td>Nyamira      </td><td>105.64865</td></tr>\n",
              "\t<tr><td>Siaya        </td><td>144.53333</td></tr>\n",
              "\t<tr><td>Taita taveta </td><td> 94.70061</td></tr>\n",
              "\t<tr><td>Tana river   </td><td>131.87342</td></tr>\n",
              "\t<tr><td>Tharaka nithi</td><td>144.34234</td></tr>\n",
              "\t<tr><td>Trans nzoia  </td><td> 96.00000</td></tr>\n",
              "\t<tr><td>Uasin gishu  </td><td>133.80000</td></tr>\n",
              "\t<tr><td>Vihiga       </td><td>108.67491</td></tr>\n",
              "</tbody>\n",
              "</table>\n"
            ],
            "text/markdown": "\nA data.frame: 31 × 2\n\n| region &lt;chr&gt; | Fluency &lt;dbl&gt; |\n|---|---|\n| Bomet         |  68.44118 |\n| Bungoma       | 144.76892 |\n| Busia         | 113.89706 |\n| Eastern       | 110.16316 |\n| Embu          | 124.83544 |\n| Homa bay      | 122.28859 |\n| Isiolo        |  98.44201 |\n| Kajiado       |  92.56944 |\n| Kakamega      | 105.60656 |\n| Kiambu        |  92.00782 |\n| Kilifi        | 119.01361 |\n| Kirinyaga     |  60.31395 |\n| Kisii         | 120.58716 |\n| Kisumu        | 127.69302 |\n| Kitui         | 130.26168 |\n| Kwale         | 123.58213 |\n| Lamu          |  93.40984 |\n| Machakos      | 157.76364 |\n| Migori        | 125.10212 |\n| Mombasa       | 117.33739 |\n| Nairobi       |  87.92357 |\n| Nakuru        | 104.36364 |\n| Narok         | 128.51042 |\n| Nyamira       | 105.64865 |\n| Siaya         | 144.53333 |\n| Taita taveta  |  94.70061 |\n| Tana river    | 131.87342 |\n| Tharaka nithi | 144.34234 |\n| Trans nzoia   |  96.00000 |\n| Uasin gishu   | 133.80000 |\n| Vihiga        | 108.67491 |\n\n",
            "text/latex": "A data.frame: 31 × 2\n\\begin{tabular}{ll}\n region & Fluency\\\\\n <chr> & <dbl>\\\\\n\\hline\n\t Bomet         &  68.44118\\\\\n\t Bungoma       & 144.76892\\\\\n\t Busia         & 113.89706\\\\\n\t Eastern       & 110.16316\\\\\n\t Embu          & 124.83544\\\\\n\t Homa bay      & 122.28859\\\\\n\t Isiolo        &  98.44201\\\\\n\t Kajiado       &  92.56944\\\\\n\t Kakamega      & 105.60656\\\\\n\t Kiambu        &  92.00782\\\\\n\t Kilifi        & 119.01361\\\\\n\t Kirinyaga     &  60.31395\\\\\n\t Kisii         & 120.58716\\\\\n\t Kisumu        & 127.69302\\\\\n\t Kitui         & 130.26168\\\\\n\t Kwale         & 123.58213\\\\\n\t Lamu          &  93.40984\\\\\n\t Machakos      & 157.76364\\\\\n\t Migori        & 125.10212\\\\\n\t Mombasa       & 117.33739\\\\\n\t Nairobi       &  87.92357\\\\\n\t Nakuru        & 104.36364\\\\\n\t Narok         & 128.51042\\\\\n\t Nyamira       & 105.64865\\\\\n\t Siaya         & 144.53333\\\\\n\t Taita taveta  &  94.70061\\\\\n\t Tana river    & 131.87342\\\\\n\t Tharaka nithi & 144.34234\\\\\n\t Trans nzoia   &  96.00000\\\\\n\t Uasin gishu   & 133.80000\\\\\n\t Vihiga        & 108.67491\\\\\n\\end{tabular}\n",
            "text/plain": [
              "   region        Fluency  \n",
              "1  Bomet          68.44118\n",
              "2  Bungoma       144.76892\n",
              "3  Busia         113.89706\n",
              "4  Eastern       110.16316\n",
              "5  Embu          124.83544\n",
              "6  Homa bay      122.28859\n",
              "7  Isiolo         98.44201\n",
              "8  Kajiado        92.56944\n",
              "9  Kakamega      105.60656\n",
              "10 Kiambu         92.00782\n",
              "11 Kilifi        119.01361\n",
              "12 Kirinyaga      60.31395\n",
              "13 Kisii         120.58716\n",
              "14 Kisumu        127.69302\n",
              "15 Kitui         130.26168\n",
              "16 Kwale         123.58213\n",
              "17 Lamu           93.40984\n",
              "18 Machakos      157.76364\n",
              "19 Migori        125.10212\n",
              "20 Mombasa       117.33739\n",
              "21 Nairobi        87.92357\n",
              "22 Nakuru        104.36364\n",
              "23 Narok         128.51042\n",
              "24 Nyamira       105.64865\n",
              "25 Siaya         144.53333\n",
              "26 Taita taveta   94.70061\n",
              "27 Tana river    131.87342\n",
              "28 Tharaka nithi 144.34234\n",
              "29 Trans nzoia    96.00000\n",
              "30 Uasin gishu   133.80000\n",
              "31 Vihiga        108.67491"
            ]
          },
          "metadata": {}
        }
      ]
    },
    {
      "cell_type": "code",
      "source": [
        "#region with lowest fluency score\n",
        "lowest_fluency_region  = filter(average_fluency_by_region, average_fluency_by_region$Fluency == min(average_fluency_by_region$Fluency) )\n",
        "#region with the highest fluency score\n",
        "Highest_fluency_region  = filter(average_fluency_by_region, average_fluency_by_region$Fluency == max(average_fluency_by_region$Fluency) )"
      ],
      "metadata": {
        "id": "N0nXn9rw70X8"
      },
      "execution_count": null,
      "outputs": []
    },
    {
      "cell_type": "code",
      "source": [
        "print(lowest_fluency_region)\n",
        "print(Highest_fluency_region)"
      ],
      "metadata": {
        "colab": {
          "base_uri": "https://localhost:8080/"
        },
        "id": "KpYnx8ycGsMg",
        "outputId": "803b5682-00fc-4dea-c291-10d593195fec"
      },
      "execution_count": null,
      "outputs": [
        {
          "output_type": "stream",
          "name": "stdout",
          "text": [
            "     region  Fluency\n",
            "1 Kirinyaga 60.31395\n",
            "    region  Fluency\n",
            "1 Machakos 157.7636\n"
          ]
        }
      ]
    },
    {
      "cell_type": "markdown",
      "source": [
        "<p>Kirinyaga happens to be the region with the lowest fluency with a value of   60.31395 while Machakos is the region with the Highest fluency with a value of   157.7636 </h3> </p>"
      ],
      "metadata": {
        "id": "ZferzuP5MkFQ"
      }
    },
    {
      "cell_type": "markdown",
      "source": [
        "<h2> Binary Variable for Low Fluency and Bar Chart </h2>"
      ],
      "metadata": {
        "id": "W3DvNe3VOAhe"
      }
    },
    {
      "cell_type": "code",
      "source": [],
      "metadata": {
        "id": "gQSBZAOOtCYr"
      },
      "execution_count": null,
      "outputs": []
    },
    {
      "cell_type": "code",
      "source": [
        "head(final_student_level_df, 3)"
      ],
      "metadata": {
        "colab": {
          "base_uri": "https://localhost:8080/",
          "height": 244
        },
        "id": "-BJ6VrMol7_U",
        "outputId": "79d92fa1-dc20-4b70-88e1-cfca2a2ddae6"
      },
      "execution_count": null,
      "outputs": [
        {
          "output_type": "display_data",
          "data": {
            "text/html": [
              "<table class=\"dataframe\">\n",
              "<caption>A tibble: 3 × 12</caption>\n",
              "<thead>\n",
              "\t<tr><th scope=col>school_id</th><th scope=col>pupil_id</th><th scope=col>grade</th><th scope=col>Fluency</th><th scope=col>Kiswahili</th><th scope=col>Math</th><th scope=col>attendance_records</th><th scope=col>present_records</th><th scope=col>region</th><th scope=col>province</th><th scope=col>tutoring_program</th><th scope=col>lesson_completion_rate</th></tr>\n",
              "\t<tr><th scope=col>&lt;dbl&gt;</th><th scope=col>&lt;dbl&gt;</th><th scope=col>&lt;chr&gt;</th><th scope=col>&lt;dbl&gt;</th><th scope=col>&lt;dbl&gt;</th><th scope=col>&lt;dbl&gt;</th><th scope=col>&lt;dbl&gt;</th><th scope=col>&lt;dbl&gt;</th><th scope=col>&lt;chr&gt;</th><th scope=col>&lt;chr&gt;</th><th scope=col>&lt;chr&gt;</th><th scope=col>&lt;dbl&gt;</th></tr>\n",
              "</thead>\n",
              "<tbody>\n",
              "\t<tr><td>35175</td><td>1</td><td>Grade 1</td><td> 65</td><td>0.9428571</td><td>1.0000000</td><td>91</td><td>69</td><td>Tana river</td><td>Coast  </td><td>No</td><td>0.6878613</td></tr>\n",
              "\t<tr><td>40580</td><td>7</td><td>Grade 2</td><td>117</td><td>0.9428571</td><td>0.9333333</td><td>92</td><td>86</td><td>Kisumu    </td><td>Nyanza </td><td>No</td><td>0.8307985</td></tr>\n",
              "\t<tr><td> 9342</td><td>8</td><td>Grade 5</td><td>144</td><td>0.8500000</td><td>0.7000000</td><td>43</td><td>39</td><td>Nairobi   </td><td>Nairobi</td><td>No</td><td>0.8097166</td></tr>\n",
              "</tbody>\n",
              "</table>\n"
            ],
            "text/markdown": "\nA tibble: 3 × 12\n\n| school_id &lt;dbl&gt; | pupil_id &lt;dbl&gt; | grade &lt;chr&gt; | Fluency &lt;dbl&gt; | Kiswahili &lt;dbl&gt; | Math &lt;dbl&gt; | attendance_records &lt;dbl&gt; | present_records &lt;dbl&gt; | region &lt;chr&gt; | province &lt;chr&gt; | tutoring_program &lt;chr&gt; | lesson_completion_rate &lt;dbl&gt; |\n|---|---|---|---|---|---|---|---|---|---|---|---|\n| 35175 | 1 | Grade 1 |  65 | 0.9428571 | 1.0000000 | 91 | 69 | Tana river | Coast   | No | 0.6878613 |\n| 40580 | 7 | Grade 2 | 117 | 0.9428571 | 0.9333333 | 92 | 86 | Kisumu     | Nyanza  | No | 0.8307985 |\n|  9342 | 8 | Grade 5 | 144 | 0.8500000 | 0.7000000 | 43 | 39 | Nairobi    | Nairobi | No | 0.8097166 |\n\n",
            "text/latex": "A tibble: 3 × 12\n\\begin{tabular}{llllllllllll}\n school\\_id & pupil\\_id & grade & Fluency & Kiswahili & Math & attendance\\_records & present\\_records & region & province & tutoring\\_program & lesson\\_completion\\_rate\\\\\n <dbl> & <dbl> & <chr> & <dbl> & <dbl> & <dbl> & <dbl> & <dbl> & <chr> & <chr> & <chr> & <dbl>\\\\\n\\hline\n\t 35175 & 1 & Grade 1 &  65 & 0.9428571 & 1.0000000 & 91 & 69 & Tana river & Coast   & No & 0.6878613\\\\\n\t 40580 & 7 & Grade 2 & 117 & 0.9428571 & 0.9333333 & 92 & 86 & Kisumu     & Nyanza  & No & 0.8307985\\\\\n\t  9342 & 8 & Grade 5 & 144 & 0.8500000 & 0.7000000 & 43 & 39 & Nairobi    & Nairobi & No & 0.8097166\\\\\n\\end{tabular}\n",
            "text/plain": [
              "  school_id pupil_id grade   Fluency Kiswahili Math      attendance_records\n",
              "1 35175     1        Grade 1  65     0.9428571 1.0000000 91                \n",
              "2 40580     7        Grade 2 117     0.9428571 0.9333333 92                \n",
              "3  9342     8        Grade 5 144     0.8500000 0.7000000 43                \n",
              "  present_records region     province tutoring_program lesson_completion_rate\n",
              "1 69              Tana river Coast    No               0.6878613             \n",
              "2 86              Kisumu     Nyanza   No               0.8307985             \n",
              "3 39              Nairobi    Nairobi  No               0.8097166             "
            ]
          },
          "metadata": {}
        }
      ]
    },
    {
      "cell_type": "code",
      "source": [
        "# Create a binary variable for fluency score <= 10\n",
        "final_student_level_df$low_fluency <- ifelse(final_student_level_df$Fluency <= 10, 1, 0)"
      ],
      "metadata": {
        "id": "j0_iWAH2VhkO"
      },
      "execution_count": null,
      "outputs": []
    },
    {
      "cell_type": "code",
      "source": [
        "head (final_student_level_df, 3)"
      ],
      "metadata": {
        "colab": {
          "base_uri": "https://localhost:8080/",
          "height": 192
        },
        "id": "ddJIMULOdgaG",
        "outputId": "51600707-5e22-47eb-c09c-1f7103fb7ec4"
      },
      "execution_count": null,
      "outputs": [
        {
          "output_type": "display_data",
          "data": {
            "text/html": [
              "<table class=\"dataframe\">\n",
              "<caption>A tibble: 3 × 14</caption>\n",
              "<thead>\n",
              "\t<tr><th scope=col>school_id</th><th scope=col>pupil_id</th><th scope=col>grade</th><th scope=col>Fluency</th><th scope=col>Kiswahili</th><th scope=col>Math</th><th scope=col>attendance_records</th><th scope=col>present_records</th><th scope=col>region</th><th scope=col>province</th><th scope=col>tutoring_program</th><th scope=col>teacher_id</th><th scope=col>lesson_completion_rate</th><th scope=col>low_fluency</th></tr>\n",
              "\t<tr><th scope=col>&lt;dbl&gt;</th><th scope=col>&lt;dbl&gt;</th><th scope=col>&lt;chr&gt;</th><th scope=col>&lt;dbl&gt;</th><th scope=col>&lt;dbl&gt;</th><th scope=col>&lt;dbl&gt;</th><th scope=col>&lt;dbl&gt;</th><th scope=col>&lt;dbl&gt;</th><th scope=col>&lt;chr&gt;</th><th scope=col>&lt;chr&gt;</th><th scope=col>&lt;chr&gt;</th><th scope=col>&lt;dbl&gt;</th><th scope=col>&lt;dbl&gt;</th><th scope=col>&lt;dbl&gt;</th></tr>\n",
              "</thead>\n",
              "<tbody>\n",
              "\t<tr><td>35175</td><td>1</td><td>Grade 1</td><td> 65</td><td>0.9428571</td><td>1.0000000</td><td>91</td><td>69</td><td>Tana river</td><td>Coast  </td><td>No</td><td>633</td><td>0.6878613</td><td>0</td></tr>\n",
              "\t<tr><td>40580</td><td>7</td><td>Grade 2</td><td>117</td><td>0.9428571</td><td>0.9333333</td><td>92</td><td>86</td><td>Kisumu    </td><td>Nyanza </td><td>No</td><td>613</td><td>0.8307985</td><td>0</td></tr>\n",
              "\t<tr><td> 9342</td><td>8</td><td>Grade 5</td><td>144</td><td>0.8500000</td><td>0.7000000</td><td>43</td><td>39</td><td>Nairobi   </td><td>Nairobi</td><td>No</td><td>710</td><td>0.8097166</td><td>0</td></tr>\n",
              "</tbody>\n",
              "</table>\n"
            ],
            "text/markdown": "\nA tibble: 3 × 14\n\n| school_id &lt;dbl&gt; | pupil_id &lt;dbl&gt; | grade &lt;chr&gt; | Fluency &lt;dbl&gt; | Kiswahili &lt;dbl&gt; | Math &lt;dbl&gt; | attendance_records &lt;dbl&gt; | present_records &lt;dbl&gt; | region &lt;chr&gt; | province &lt;chr&gt; | tutoring_program &lt;chr&gt; | teacher_id &lt;dbl&gt; | lesson_completion_rate &lt;dbl&gt; | low_fluency &lt;dbl&gt; |\n|---|---|---|---|---|---|---|---|---|---|---|---|---|---|\n| 35175 | 1 | Grade 1 |  65 | 0.9428571 | 1.0000000 | 91 | 69 | Tana river | Coast   | No | 633 | 0.6878613 | 0 |\n| 40580 | 7 | Grade 2 | 117 | 0.9428571 | 0.9333333 | 92 | 86 | Kisumu     | Nyanza  | No | 613 | 0.8307985 | 0 |\n|  9342 | 8 | Grade 5 | 144 | 0.8500000 | 0.7000000 | 43 | 39 | Nairobi    | Nairobi | No | 710 | 0.8097166 | 0 |\n\n",
            "text/latex": "A tibble: 3 × 14\n\\begin{tabular}{llllllllllllll}\n school\\_id & pupil\\_id & grade & Fluency & Kiswahili & Math & attendance\\_records & present\\_records & region & province & tutoring\\_program & teacher\\_id & lesson\\_completion\\_rate & low\\_fluency\\\\\n <dbl> & <dbl> & <chr> & <dbl> & <dbl> & <dbl> & <dbl> & <dbl> & <chr> & <chr> & <chr> & <dbl> & <dbl> & <dbl>\\\\\n\\hline\n\t 35175 & 1 & Grade 1 &  65 & 0.9428571 & 1.0000000 & 91 & 69 & Tana river & Coast   & No & 633 & 0.6878613 & 0\\\\\n\t 40580 & 7 & Grade 2 & 117 & 0.9428571 & 0.9333333 & 92 & 86 & Kisumu     & Nyanza  & No & 613 & 0.8307985 & 0\\\\\n\t  9342 & 8 & Grade 5 & 144 & 0.8500000 & 0.7000000 & 43 & 39 & Nairobi    & Nairobi & No & 710 & 0.8097166 & 0\\\\\n\\end{tabular}\n",
            "text/plain": [
              "  school_id pupil_id grade   Fluency Kiswahili Math      attendance_records\n",
              "1 35175     1        Grade 1  65     0.9428571 1.0000000 91                \n",
              "2 40580     7        Grade 2 117     0.9428571 0.9333333 92                \n",
              "3  9342     8        Grade 5 144     0.8500000 0.7000000 43                \n",
              "  present_records region     province tutoring_program teacher_id\n",
              "1 69              Tana river Coast    No               633       \n",
              "2 86              Kisumu     Nyanza   No               613       \n",
              "3 39              Nairobi    Nairobi  No               710       \n",
              "  lesson_completion_rate low_fluency\n",
              "1 0.6878613              0          \n",
              "2 0.8307985              0          \n",
              "3 0.8097166              0          "
            ]
          },
          "metadata": {}
        }
      ]
    },
    {
      "cell_type": "code",
      "source": [
        "# Calculating the share of pupils scoring under this threshold for each grade\n",
        "share_low_fluency_by_grade <- aggregate(low_fluency ~ grade,  data =final_student_level_df, mean)"
      ],
      "metadata": {
        "id": "KFK8YQa3dbUd"
      },
      "execution_count": null,
      "outputs": []
    },
    {
      "cell_type": "code",
      "source": [
        "head(share_low_fluency_by_grade, )"
      ],
      "metadata": {
        "colab": {
          "base_uri": "https://localhost:8080/",
          "height": 255
        },
        "id": "RFRDRr67VpyG",
        "outputId": "307b608e-268b-4c86-c950-4663dd3b6a34"
      },
      "execution_count": null,
      "outputs": [
        {
          "output_type": "display_data",
          "data": {
            "text/html": [
              "<table class=\"dataframe\">\n",
              "<caption>A data.frame: 5 × 2</caption>\n",
              "<thead>\n",
              "\t<tr><th></th><th scope=col>grade</th><th scope=col>low_fluency</th></tr>\n",
              "\t<tr><th></th><th scope=col>&lt;chr&gt;</th><th scope=col>&lt;dbl&gt;</th></tr>\n",
              "</thead>\n",
              "<tbody>\n",
              "\t<tr><th scope=row>1</th><td>Grade 1</td><td>0.110609481</td></tr>\n",
              "\t<tr><th scope=row>2</th><td>Grade 2</td><td>0.034351145</td></tr>\n",
              "\t<tr><th scope=row>3</th><td>Grade 3</td><td>0.022540984</td></tr>\n",
              "\t<tr><th scope=row>4</th><td>Grade 4</td><td>0.016608392</td></tr>\n",
              "\t<tr><th scope=row>5</th><td>Grade 5</td><td>0.009137056</td></tr>\n",
              "</tbody>\n",
              "</table>\n"
            ],
            "text/markdown": "\nA data.frame: 5 × 2\n\n| <!--/--> | grade &lt;chr&gt; | low_fluency &lt;dbl&gt; |\n|---|---|---|\n| 1 | Grade 1 | 0.110609481 |\n| 2 | Grade 2 | 0.034351145 |\n| 3 | Grade 3 | 0.022540984 |\n| 4 | Grade 4 | 0.016608392 |\n| 5 | Grade 5 | 0.009137056 |\n\n",
            "text/latex": "A data.frame: 5 × 2\n\\begin{tabular}{r|ll}\n  & grade & low\\_fluency\\\\\n  & <chr> & <dbl>\\\\\n\\hline\n\t1 & Grade 1 & 0.110609481\\\\\n\t2 & Grade 2 & 0.034351145\\\\\n\t3 & Grade 3 & 0.022540984\\\\\n\t4 & Grade 4 & 0.016608392\\\\\n\t5 & Grade 5 & 0.009137056\\\\\n\\end{tabular}\n",
            "text/plain": [
              "  grade   low_fluency\n",
              "1 Grade 1 0.110609481\n",
              "2 Grade 2 0.034351145\n",
              "3 Grade 3 0.022540984\n",
              "4 Grade 4 0.016608392\n",
              "5 Grade 5 0.009137056"
            ]
          },
          "metadata": {}
        }
      ]
    },
    {
      "cell_type": "code",
      "source": [
        "ggplot(share_low_fluency_by_grade, aes(x = grade, y = low_fluency)) +\n",
        "   geom_bar(stat = \"identity\", fill = \"blue\") +\n",
        "   theme_minimal() +\n",
        "   labs(title = \"Share of Pupils Scoring Under Threshold by Grade\", x = \"Grade\", y = \"Share of Low Scorers\")\n"
      ],
      "metadata": {
        "colab": {
          "base_uri": "https://localhost:8080/",
          "height": 437
        },
        "id": "tCSn-_F-MhRr",
        "outputId": "de56f3f5-7010-43a2-e293-c375b07c6163"
      },
      "execution_count": null,
      "outputs": [
        {
          "output_type": "display_data",
          "data": {
            "text/plain": [
              "plot without title"
            ],
            "image/png": "[encoded data removed]"
          },
          "metadata": {
            "image/png": {
              "width": 420,
              "height": 420
            }
          }
        }
      ]
    },
    {
      "cell_type": "markdown",
      "source": [
        "<h2> 4. School with Highest Share of Low Scorers in Grade 3 </h2>"
      ],
      "metadata": {
        "id": "3czubDgyXWiy"
      }
    },
    {
      "cell_type": "code",
      "source": [
        "# Filtering data for grade 3 alone\n",
        "grade_3_data <- subset(final_student_level_df, grade == 'Grade 3')"
      ],
      "metadata": {
        "id": "PU9AHxB3l52p"
      },
      "execution_count": null,
      "outputs": []
    },
    {
      "cell_type": "code",
      "source": [
        "head(grade_3_data, 5)"
      ],
      "metadata": {
        "colab": {
          "base_uri": "https://localhost:8080/",
          "height": 342
        },
        "id": "VgScvkfwZCNn",
        "outputId": "3e3a02ec-a55e-44ab-b6b6-99cd4f3b2e6c"
      },
      "execution_count": null,
      "outputs": [
        {
          "output_type": "display_data",
          "data": {
            "text/html": [
              "<table class=\"dataframe\">\n",
              "<caption>A tibble: 5 × 14</caption>\n",
              "<thead>\n",
              "\t<tr><th scope=col>school_id</th><th scope=col>pupil_id</th><th scope=col>grade</th><th scope=col>Fluency</th><th scope=col>Kiswahili</th><th scope=col>Math</th><th scope=col>attendance_records</th><th scope=col>present_records</th><th scope=col>region</th><th scope=col>province</th><th scope=col>tutoring_program</th><th scope=col>teacher_id</th><th scope=col>lesson_completion_rate</th><th scope=col>low_fluency</th></tr>\n",
              "\t<tr><th scope=col>&lt;dbl&gt;</th><th scope=col>&lt;dbl&gt;</th><th scope=col>&lt;chr&gt;</th><th scope=col>&lt;dbl&gt;</th><th scope=col>&lt;dbl&gt;</th><th scope=col>&lt;dbl&gt;</th><th scope=col>&lt;dbl&gt;</th><th scope=col>&lt;dbl&gt;</th><th scope=col>&lt;chr&gt;</th><th scope=col>&lt;chr&gt;</th><th scope=col>&lt;chr&gt;</th><th scope=col>&lt;dbl&gt;</th><th scope=col>&lt;dbl&gt;</th><th scope=col>&lt;dbl&gt;</th></tr>\n",
              "</thead>\n",
              "<tbody>\n",
              "\t<tr><td>   792</td><td>13</td><td>Grade 3</td><td>221</td><td>0.8571429</td><td>0.9666666</td><td>104</td><td>81</td><td>Siaya       </td><td>Nyanza </td><td>No </td><td>669</td><td>0.8821363</td><td>0</td></tr>\n",
              "\t<tr><td>230373</td><td>16</td><td>Grade 3</td><td>143</td><td>1.0000000</td><td>0.7203071</td><td> 81</td><td>65</td><td>Mombasa     </td><td>Coast  </td><td>Yes</td><td>360</td><td>0.7744681</td><td>0</td></tr>\n",
              "\t<tr><td>359640</td><td>27</td><td>Grade 3</td><td>130</td><td>1.0000000</td><td>0.9189060</td><td> 97</td><td>77</td><td>Kiambu      </td><td>Central</td><td>Yes</td><td> 91</td><td>0.5672192</td><td>0</td></tr>\n",
              "\t<tr><td>  9342</td><td>42</td><td>Grade 3</td><td>150</td><td>0.8000000</td><td>0.9666666</td><td> 59</td><td>50</td><td>Nairobi     </td><td>Nairobi</td><td>No </td><td>672</td><td>0.2473118</td><td>0</td></tr>\n",
              "\t<tr><td>601798</td><td>53</td><td>Grade 3</td><td>109</td><td>1.0000000</td><td>0.7902516</td><td> 99</td><td>85</td><td>Taita taveta</td><td>Coast  </td><td>Yes</td><td>685</td><td>0.7955801</td><td>0</td></tr>\n",
              "</tbody>\n",
              "</table>\n"
            ],
            "text/markdown": "\nA tibble: 5 × 14\n\n| school_id &lt;dbl&gt; | pupil_id &lt;dbl&gt; | grade &lt;chr&gt; | Fluency &lt;dbl&gt; | Kiswahili &lt;dbl&gt; | Math &lt;dbl&gt; | attendance_records &lt;dbl&gt; | present_records &lt;dbl&gt; | region &lt;chr&gt; | province &lt;chr&gt; | tutoring_program &lt;chr&gt; | teacher_id &lt;dbl&gt; | lesson_completion_rate &lt;dbl&gt; | low_fluency &lt;dbl&gt; |\n|---|---|---|---|---|---|---|---|---|---|---|---|---|---|\n|    792 | 13 | Grade 3 | 221 | 0.8571429 | 0.9666666 | 104 | 81 | Siaya        | Nyanza  | No  | 669 | 0.8821363 | 0 |\n| 230373 | 16 | Grade 3 | 143 | 1.0000000 | 0.7203071 |  81 | 65 | Mombasa      | Coast   | Yes | 360 | 0.7744681 | 0 |\n| 359640 | 27 | Grade 3 | 130 | 1.0000000 | 0.9189060 |  97 | 77 | Kiambu       | Central | Yes |  91 | 0.5672192 | 0 |\n|   9342 | 42 | Grade 3 | 150 | 0.8000000 | 0.9666666 |  59 | 50 | Nairobi      | Nairobi | No  | 672 | 0.2473118 | 0 |\n| 601798 | 53 | Grade 3 | 109 | 1.0000000 | 0.7902516 |  99 | 85 | Taita taveta | Coast   | Yes | 685 | 0.7955801 | 0 |\n\n",
            "text/latex": "A tibble: 5 × 14\n\\begin{tabular}{llllllllllllll}\n school\\_id & pupil\\_id & grade & Fluency & Kiswahili & Math & attendance\\_records & present\\_records & region & province & tutoring\\_program & teacher\\_id & lesson\\_completion\\_rate & low\\_fluency\\\\\n <dbl> & <dbl> & <chr> & <dbl> & <dbl> & <dbl> & <dbl> & <dbl> & <chr> & <chr> & <chr> & <dbl> & <dbl> & <dbl>\\\\\n\\hline\n\t    792 & 13 & Grade 3 & 221 & 0.8571429 & 0.9666666 & 104 & 81 & Siaya        & Nyanza  & No  & 669 & 0.8821363 & 0\\\\\n\t 230373 & 16 & Grade 3 & 143 & 1.0000000 & 0.7203071 &  81 & 65 & Mombasa      & Coast   & Yes & 360 & 0.7744681 & 0\\\\\n\t 359640 & 27 & Grade 3 & 130 & 1.0000000 & 0.9189060 &  97 & 77 & Kiambu       & Central & Yes &  91 & 0.5672192 & 0\\\\\n\t   9342 & 42 & Grade 3 & 150 & 0.8000000 & 0.9666666 &  59 & 50 & Nairobi      & Nairobi & No  & 672 & 0.2473118 & 0\\\\\n\t 601798 & 53 & Grade 3 & 109 & 1.0000000 & 0.7902516 &  99 & 85 & Taita taveta & Coast   & Yes & 685 & 0.7955801 & 0\\\\\n\\end{tabular}\n",
            "text/plain": [
              "  school_id pupil_id grade   Fluency Kiswahili Math      attendance_records\n",
              "1    792    13       Grade 3 221     0.8571429 0.9666666 104               \n",
              "2 230373    16       Grade 3 143     1.0000000 0.7203071  81               \n",
              "3 359640    27       Grade 3 130     1.0000000 0.9189060  97               \n",
              "4   9342    42       Grade 3 150     0.8000000 0.9666666  59               \n",
              "5 601798    53       Grade 3 109     1.0000000 0.7902516  99               \n",
              "  present_records region       province tutoring_program teacher_id\n",
              "1 81              Siaya        Nyanza   No               669       \n",
              "2 65              Mombasa      Coast    Yes              360       \n",
              "3 77              Kiambu       Central  Yes               91       \n",
              "4 50              Nairobi      Nairobi  No               672       \n",
              "5 85              Taita taveta Coast    Yes              685       \n",
              "  lesson_completion_rate low_fluency\n",
              "1 0.8821363              0          \n",
              "2 0.7744681              0          \n",
              "3 0.5672192              0          \n",
              "4 0.2473118              0          \n",
              "5 0.7955801              0          "
            ]
          },
          "metadata": {}
        }
      ]
    },
    {
      "cell_type": "code",
      "source": [
        "# Calculate the share of low scorers by school for grade 3\n",
        "share_low_fluency_by_school_grade_3 <- aggregate(low_fluency ~ school_id, data = grade_3_data, mean)"
      ],
      "metadata": {
        "id": "O-gG6PxQYdAw"
      },
      "execution_count": null,
      "outputs": []
    },
    {
      "cell_type": "code",
      "source": [
        "head(share_low_fluency_by_school_grade_3, 5)"
      ],
      "metadata": {
        "id": "e-hvAkpVZkVQ",
        "outputId": "6613d2ee-a184-4208-a9ae-e3de2100478e",
        "colab": {
          "base_uri": "https://localhost:8080/",
          "height": 255
        }
      },
      "execution_count": null,
      "outputs": [
        {
          "output_type": "display_data",
          "data": {
            "text/html": [
              "<table class=\"dataframe\">\n",
              "<caption>A data.frame: 5 × 2</caption>\n",
              "<thead>\n",
              "\t<tr><th></th><th scope=col>school_id</th><th scope=col>low_fluency</th></tr>\n",
              "\t<tr><th></th><th scope=col>&lt;dbl&gt;</th><th scope=col>&lt;dbl&gt;</th></tr>\n",
              "</thead>\n",
              "<tbody>\n",
              "\t<tr><th scope=row>1</th><td> 416</td><td>0.1250000</td></tr>\n",
              "\t<tr><th scope=row>2</th><td> 792</td><td>0.0000000</td></tr>\n",
              "\t<tr><th scope=row>3</th><td>5502</td><td>0.0000000</td></tr>\n",
              "\t<tr><th scope=row>4</th><td>7956</td><td>0.0000000</td></tr>\n",
              "\t<tr><th scope=row>5</th><td>8084</td><td>0.1153846</td></tr>\n",
              "</tbody>\n",
              "</table>\n"
            ],
            "text/markdown": "\nA data.frame: 5 × 2\n\n| <!--/--> | school_id &lt;dbl&gt; | low_fluency &lt;dbl&gt; |\n|---|---|---|\n| 1 |  416 | 0.1250000 |\n| 2 |  792 | 0.0000000 |\n| 3 | 5502 | 0.0000000 |\n| 4 | 7956 | 0.0000000 |\n| 5 | 8084 | 0.1153846 |\n\n",
            "text/latex": "A data.frame: 5 × 2\n\\begin{tabular}{r|ll}\n  & school\\_id & low\\_fluency\\\\\n  & <dbl> & <dbl>\\\\\n\\hline\n\t1 &  416 & 0.1250000\\\\\n\t2 &  792 & 0.0000000\\\\\n\t3 & 5502 & 0.0000000\\\\\n\t4 & 7956 & 0.0000000\\\\\n\t5 & 8084 & 0.1153846\\\\\n\\end{tabular}\n",
            "text/plain": [
              "  school_id low_fluency\n",
              "1  416      0.1250000  \n",
              "2  792      0.0000000  \n",
              "3 5502      0.0000000  \n",
              "4 7956      0.0000000  \n",
              "5 8084      0.1153846  "
            ]
          },
          "metadata": {}
        }
      ]
    },
    {
      "cell_type": "code",
      "source": [
        "\n",
        "# Identify the school with the highest share of low scorers in grade 3\n",
        "highest_share_low_school_grade_3 <- share_low_fluency_by_school_grade_3[which.max(share_low_fluency_by_school_grade_3$low_fluency), ]\n",
        "\n",
        "# Print the school ID\n",
        "print(highest_share_low_school_grade_3)\n"
      ],
      "metadata": {
        "id": "wwz5iae4O741",
        "colab": {
          "base_uri": "https://localhost:8080/"
        },
        "outputId": "ddd6988e-90ba-453c-9da0-64a90dcedd4b"
      },
      "execution_count": null,
      "outputs": [
        {
          "output_type": "stream",
          "name": "stdout",
          "text": [
            "   school_id low_fluency\n",
            "56    223941   0.3421053\n"
          ]
        }
      ]
    },
    {
      "cell_type": "markdown",
      "source": [
        "# <h1>Step 4: Impact Evaluation</h1>"
      ],
      "metadata": {
        "id": "m1wKDq6zNT4_"
      }
    },
    {
      "cell_type": "markdown",
      "source": [
        "<p> Action Steps : We will </br>\n",
        "1.   compare the averages of these outcomes between schools that participated in the program and those that did not. </br>\n",
        "2.   we will explore the relationship between the program and teacher lesson completion rates to see if they confound the effects of the tutoring program. </p>"
      ],
      "metadata": {
        "id": "qxc6MCJ1NYxu"
      }
    },
    {
      "cell_type": "markdown",
      "source": [
        "<h2> 1. Effects on Test Scores and Attendance</h2>\n",
        "<p>Lets calculate the average effects on math, Kiswahili, fluency scores, and student attendance.</p>"
      ],
      "metadata": {
        "id": "NyAQL2yQNs9y"
      }
    },
    {
      "cell_type": "code",
      "source": [
        "names(final_student_level_df)"
      ],
      "metadata": {
        "colab": {
          "base_uri": "https://localhost:8080/",
          "height": 34
        },
        "id": "0efgJSX0Qq9g",
        "outputId": "1e94e74b-8c11-4b7a-996e-c0f3cee5514a"
      },
      "execution_count": null,
      "outputs": [
        {
          "output_type": "display_data",
          "data": {
            "text/html": [
              "<style>\n",
              ".list-inline {list-style: none; margin:0; padding: 0}\n",
              ".list-inline>li {display: inline-block}\n",
              ".list-inline>li:not(:last-child)::after {content: \"\\00b7\"; padding: 0 .5ex}\n",
              "</style>\n",
              "<ol class=list-inline><li>'school_id'</li><li>'pupil_id'</li><li>'grade'</li><li>'Fluency'</li><li>'Kiswahili'</li><li>'Math'</li><li>'attendance_records'</li><li>'present_records'</li><li>'region'</li><li>'province'</li><li>'tutoring_program'</li><li>'lesson_completion_rate'</li><li>'low_fluency'</li></ol>\n"
            ],
            "text/markdown": "1. 'school_id'\n2. 'pupil_id'\n3. 'grade'\n4. 'Fluency'\n5. 'Kiswahili'\n6. 'Math'\n7. 'attendance_records'\n8. 'present_records'\n9. 'region'\n10. 'province'\n11. 'tutoring_program'\n12. 'lesson_completion_rate'\n13. 'low_fluency'\n\n\n",
            "text/latex": "\\begin{enumerate*}\n\\item 'school\\_id'\n\\item 'pupil\\_id'\n\\item 'grade'\n\\item 'Fluency'\n\\item 'Kiswahili'\n\\item 'Math'\n\\item 'attendance\\_records'\n\\item 'present\\_records'\n\\item 'region'\n\\item 'province'\n\\item 'tutoring\\_program'\n\\item 'lesson\\_completion\\_rate'\n\\item 'low\\_fluency'\n\\end{enumerate*}\n",
            "text/plain": [
              " [1] \"school_id\"              \"pupil_id\"               \"grade\"                 \n",
              " [4] \"Fluency\"                \"Kiswahili\"              \"Math\"                  \n",
              " [7] \"attendance_records\"     \"present_records\"        \"region\"                \n",
              "[10] \"province\"               \"tutoring_program\"       \"lesson_completion_rate\"\n",
              "[13] \"low_fluency\"           "
            ]
          },
          "metadata": {}
        }
      ]
    },
    {
      "cell_type": "code",
      "source": [
        "# Aggregate scores and attendance by school and program participation\n",
        "avg_outcomes_by_program <- aggregate(cbind(Math, Kiswahili, Fluency, attendance_records) ~ tutoring_program + school_id, data = final_student_level_df, mean)"
      ],
      "metadata": {
        "id": "Hps98rsvSt0N"
      },
      "execution_count": null,
      "outputs": []
    },
    {
      "cell_type": "code",
      "source": [
        "head (avg_outcomes_by_program)"
      ],
      "metadata": {
        "colab": {
          "base_uri": "https://localhost:8080/",
          "height": 286
        },
        "id": "_suK5p-QdXbt",
        "outputId": "10bf1594-332d-4d5c-aab1-2c60713b6c53"
      },
      "execution_count": null,
      "outputs": [
        {
          "output_type": "display_data",
          "data": {
            "text/html": [
              "<table class=\"dataframe\">\n",
              "<caption>A data.frame: 6 × 6</caption>\n",
              "<thead>\n",
              "\t<tr><th></th><th scope=col>tutoring_program</th><th scope=col>school_id</th><th scope=col>Math</th><th scope=col>Kiswahili</th><th scope=col>Fluency</th><th scope=col>attendance_records</th></tr>\n",
              "\t<tr><th></th><th scope=col>&lt;chr&gt;</th><th scope=col>&lt;dbl&gt;</th><th scope=col>&lt;dbl&gt;</th><th scope=col>&lt;dbl&gt;</th><th scope=col>&lt;dbl&gt;</th><th scope=col>&lt;dbl&gt;</th></tr>\n",
              "</thead>\n",
              "<tbody>\n",
              "\t<tr><th scope=row>1</th><td>No</td><td> 416</td><td>0.6278295</td><td>0.5617774</td><td> 60.31395</td><td>79.53488</td></tr>\n",
              "\t<tr><th scope=row>2</th><td>No</td><td> 792</td><td>0.7165333</td><td>0.7836571</td><td>153.77000</td><td>86.46000</td></tr>\n",
              "\t<tr><th scope=row>3</th><td>No</td><td>5502</td><td>0.7324638</td><td>0.7964286</td><td>100.33333</td><td>86.15942</td></tr>\n",
              "\t<tr><th scope=row>4</th><td>No</td><td>7956</td><td>0.6412613</td><td>0.5277992</td><td> 50.94595</td><td>82.82883</td></tr>\n",
              "\t<tr><th scope=row>5</th><td>No</td><td>8084</td><td>0.6733755</td><td>0.6528029</td><td> 65.60127</td><td>97.94304</td></tr>\n",
              "\t<tr><th scope=row>6</th><td>No</td><td>9342</td><td>0.7731646</td><td>0.7441139</td><td> 92.79747</td><td>84.11392</td></tr>\n",
              "</tbody>\n",
              "</table>\n"
            ],
            "text/markdown": "\nA data.frame: 6 × 6\n\n| <!--/--> | tutoring_program &lt;chr&gt; | school_id &lt;dbl&gt; | Math &lt;dbl&gt; | Kiswahili &lt;dbl&gt; | Fluency &lt;dbl&gt; | attendance_records &lt;dbl&gt; |\n|---|---|---|---|---|---|---|\n| 1 | No |  416 | 0.6278295 | 0.5617774 |  60.31395 | 79.53488 |\n| 2 | No |  792 | 0.7165333 | 0.7836571 | 153.77000 | 86.46000 |\n| 3 | No | 5502 | 0.7324638 | 0.7964286 | 100.33333 | 86.15942 |\n| 4 | No | 7956 | 0.6412613 | 0.5277992 |  50.94595 | 82.82883 |\n| 5 | No | 8084 | 0.6733755 | 0.6528029 |  65.60127 | 97.94304 |\n| 6 | No | 9342 | 0.7731646 | 0.7441139 |  92.79747 | 84.11392 |\n\n",
            "text/latex": "A data.frame: 6 × 6\n\\begin{tabular}{r|llllll}\n  & tutoring\\_program & school\\_id & Math & Kiswahili & Fluency & attendance\\_records\\\\\n  & <chr> & <dbl> & <dbl> & <dbl> & <dbl> & <dbl>\\\\\n\\hline\n\t1 & No &  416 & 0.6278295 & 0.5617774 &  60.31395 & 79.53488\\\\\n\t2 & No &  792 & 0.7165333 & 0.7836571 & 153.77000 & 86.46000\\\\\n\t3 & No & 5502 & 0.7324638 & 0.7964286 & 100.33333 & 86.15942\\\\\n\t4 & No & 7956 & 0.6412613 & 0.5277992 &  50.94595 & 82.82883\\\\\n\t5 & No & 8084 & 0.6733755 & 0.6528029 &  65.60127 & 97.94304\\\\\n\t6 & No & 9342 & 0.7731646 & 0.7441139 &  92.79747 & 84.11392\\\\\n\\end{tabular}\n",
            "text/plain": [
              "  tutoring_program school_id Math      Kiswahili Fluency   attendance_records\n",
              "1 No                416      0.6278295 0.5617774  60.31395 79.53488          \n",
              "2 No                792      0.7165333 0.7836571 153.77000 86.46000          \n",
              "3 No               5502      0.7324638 0.7964286 100.33333 86.15942          \n",
              "4 No               7956      0.6412613 0.5277992  50.94595 82.82883          \n",
              "5 No               8084      0.6733755 0.6528029  65.60127 97.94304          \n",
              "6 No               9342      0.7731646 0.7441139  92.79747 84.11392          "
            ]
          },
          "metadata": {}
        }
      ]
    },
    {
      "cell_type": "code",
      "source": [
        "# Calculate average effects\n",
        "effects <- aggregate(cbind(Math, Kiswahili, Fluency, attendance_records) ~ tutoring_program, data = avg_outcomes_by_program, mean)"
      ],
      "metadata": {
        "id": "QLZQU2srfD3B"
      },
      "execution_count": null,
      "outputs": []
    },
    {
      "cell_type": "code",
      "source": [
        "# Compare averages between program and non-program schools\n",
        "print(effects)"
      ],
      "metadata": {
        "colab": {
          "base_uri": "https://localhost:8080/"
        },
        "id": "B1rM5yF-Nr9h",
        "outputId": "3d433f6c-851c-4238-e4c8-83d63c979f39"
      },
      "execution_count": null,
      "outputs": [
        {
          "output_type": "stream",
          "name": "stdout",
          "text": [
            "  tutoring_program      Math Kiswahili   Fluency attendance_records\n",
            "1               No 0.7180511 0.6903678  97.88084           81.89300\n",
            "2              Yes 0.7457785 0.8088320 131.68754           81.60044\n"
          ]
        }
      ]
    },
    {
      "cell_type": "markdown",
      "source": [
        "<h2>2. Analyzing Lesson Completion Rate</h2>\n",
        "To examine if the lesson completion rate might confound the relationship between program participation and the outcomes of interest, we will compare lesson completion rates between program and non-program schools and conduct a regression analysis including lesson completion rate as a covariate."
      ],
      "metadata": {
        "id": "aA6EsHlTWFUs"
      }
    },
    {
      "cell_type": "code",
      "source": [
        "head(school_information,4)"
      ],
      "metadata": {
        "colab": {
          "base_uri": "https://localhost:8080/",
          "height": 223
        },
        "id": "839oiEp4h70e",
        "outputId": "2a5f00a3-b488-4fc8-a362-3a5407c476fb"
      },
      "execution_count": null,
      "outputs": [
        {
          "output_type": "display_data",
          "data": {
            "text/html": [
              "<table class=\"dataframe\">\n",
              "<caption>A tibble: 4 × 4</caption>\n",
              "<thead>\n",
              "\t<tr><th scope=col>region</th><th scope=col>province</th><th scope=col>school_id</th><th scope=col>tutoring_program</th></tr>\n",
              "\t<tr><th scope=col>&lt;chr&gt;</th><th scope=col>&lt;chr&gt;</th><th scope=col>&lt;dbl&gt;</th><th scope=col>&lt;chr&gt;</th></tr>\n",
              "</thead>\n",
              "<tbody>\n",
              "\t<tr><td>Mombasa</td><td>Coast  </td><td>136992</td><td>No </td></tr>\n",
              "\t<tr><td>Kilifi </td><td>Coast  </td><td>687400</td><td>Yes</td></tr>\n",
              "\t<tr><td>Mombasa</td><td>Coast  </td><td>609982</td><td>Yes</td></tr>\n",
              "\t<tr><td>Eastern</td><td>Eastern</td><td>223941</td><td>No </td></tr>\n",
              "</tbody>\n",
              "</table>\n"
            ],
            "text/markdown": "\nA tibble: 4 × 4\n\n| region &lt;chr&gt; | province &lt;chr&gt; | school_id &lt;dbl&gt; | tutoring_program &lt;chr&gt; |\n|---|---|---|---|\n| Mombasa | Coast   | 136992 | No  |\n| Kilifi  | Coast   | 687400 | Yes |\n| Mombasa | Coast   | 609982 | Yes |\n| Eastern | Eastern | 223941 | No  |\n\n",
            "text/latex": "A tibble: 4 × 4\n\\begin{tabular}{llll}\n region & province & school\\_id & tutoring\\_program\\\\\n <chr> & <chr> & <dbl> & <chr>\\\\\n\\hline\n\t Mombasa & Coast   & 136992 & No \\\\\n\t Kilifi  & Coast   & 687400 & Yes\\\\\n\t Mombasa & Coast   & 609982 & Yes\\\\\n\t Eastern & Eastern & 223941 & No \\\\\n\\end{tabular}\n",
            "text/plain": [
              "  region  province school_id tutoring_program\n",
              "1 Mombasa Coast    136992    No              \n",
              "2 Kilifi  Coast    687400    Yes             \n",
              "3 Mombasa Coast    609982    Yes             \n",
              "4 Eastern Eastern  223941    No              "
            ]
          },
          "metadata": {}
        }
      ]
    },
    {
      "cell_type": "code",
      "source": [
        "# Compare lesson completion rates\n",
        "lesson_completion_by_program <- aggregate(lesson_completion_rate ~ tutoring_program, data = final_student_level_df, mean)\n",
        "print(lesson_completion_by_program)"
      ],
      "metadata": {
        "colab": {
          "base_uri": "https://localhost:8080/"
        },
        "id": "gvPF6XIrgyCy",
        "outputId": "dd4caba8-2e77-4e31-95f1-acc172959d5a"
      },
      "execution_count": null,
      "outputs": [
        {
          "output_type": "stream",
          "name": "stdout",
          "text": [
            "  tutoring_program lesson_completion_rate\n",
            "1               No              0.6041153\n",
            "2              Yes              0.6085406\n"
          ]
        }
      ]
    },
    {
      "cell_type": "code",
      "source": [
        "colnames(final_student_level_df)"
      ],
      "metadata": {
        "colab": {
          "base_uri": "https://localhost:8080/",
          "height": 34
        },
        "id": "-ySLQmz4jv4N",
        "outputId": "f18d5bc0-7bd3-4121-96a8-791b3670de5e"
      },
      "execution_count": null,
      "outputs": [
        {
          "output_type": "display_data",
          "data": {
            "text/html": [
              "<style>\n",
              ".list-inline {list-style: none; margin:0; padding: 0}\n",
              ".list-inline>li {display: inline-block}\n",
              ".list-inline>li:not(:last-child)::after {content: \"\\00b7\"; padding: 0 .5ex}\n",
              "</style>\n",
              "<ol class=list-inline><li>'school_id'</li><li>'pupil_id'</li><li>'grade'</li><li>'Fluency'</li><li>'Kiswahili'</li><li>'Math'</li><li>'attendance_records'</li><li>'present_records'</li><li>'region'</li><li>'province'</li><li>'tutoring_program'</li><li>'lesson_completion_rate'</li><li>'low_fluency'</li></ol>\n"
            ],
            "text/markdown": "1. 'school_id'\n2. 'pupil_id'\n3. 'grade'\n4. 'Fluency'\n5. 'Kiswahili'\n6. 'Math'\n7. 'attendance_records'\n8. 'present_records'\n9. 'region'\n10. 'province'\n11. 'tutoring_program'\n12. 'lesson_completion_rate'\n13. 'low_fluency'\n\n\n",
            "text/latex": "\\begin{enumerate*}\n\\item 'school\\_id'\n\\item 'pupil\\_id'\n\\item 'grade'\n\\item 'Fluency'\n\\item 'Kiswahili'\n\\item 'Math'\n\\item 'attendance\\_records'\n\\item 'present\\_records'\n\\item 'region'\n\\item 'province'\n\\item 'tutoring\\_program'\n\\item 'lesson\\_completion\\_rate'\n\\item 'low\\_fluency'\n\\end{enumerate*}\n",
            "text/plain": [
              " [1] \"school_id\"              \"pupil_id\"               \"grade\"                 \n",
              " [4] \"Fluency\"                \"Kiswahili\"              \"Math\"                  \n",
              " [7] \"attendance_records\"     \"present_records\"        \"region\"                \n",
              "[10] \"province\"               \"tutoring_program\"       \"lesson_completion_rate\"\n",
              "[13] \"low_fluency\"           "
            ]
          },
          "metadata": {}
        }
      ]
    },
    {
      "cell_type": "code",
      "source": [
        "# Regression analysis including lesson completion rate\n",
        "\n",
        "lm_math <- lm(Math ~ tutoring_program + lesson_completion_rate, data = final_student_level_df)\n",
        "lm_kiswahili <- lm(Kiswahili ~ tutoring_program + lesson_completion_rate, data = final_student_level_df)\n",
        "lm_fluency <- lm(Fluency ~ tutoring_program + lesson_completion_rate, data = final_student_level_df)\n",
        "lm_attendance <- lm(attendance_records ~ tutoring_program + lesson_completion_rate, data = final_student_level_df)"
      ],
      "metadata": {
        "id": "WgsErbc_gyQj"
      },
      "execution_count": null,
      "outputs": []
    },
    {
      "cell_type": "code",
      "source": [
        "lm_math"
      ],
      "metadata": {
        "colab": {
          "base_uri": "https://localhost:8080/",
          "height": 156
        },
        "id": "vxXyiHgdgyZZ",
        "outputId": "c5a0168d-6e73-4c48-c5c1-6f07f2353d73"
      },
      "execution_count": null,
      "outputs": [
        {
          "output_type": "display_data",
          "data": {
            "text/plain": [
              "\n",
              "Call:\n",
              "lm(formula = Math ~ tutoring_program + lesson_completion_rate, \n",
              "    data = final_student_level_df)\n",
              "\n",
              "Coefficients:\n",
              "           (Intercept)     tutoring_programYes  lesson_completion_rate  \n",
              "               0.63140                 0.03733                 0.12298  \n"
            ]
          },
          "metadata": {}
        }
      ]
    },
    {
      "cell_type": "code",
      "source": [
        "# Summarize the regression results\n",
        "summary(lm_math)\n",
        "summary(lm_kiswahili)\n",
        "summary(lm_fluency)\n",
        "summary(lm_attendance)"
      ],
      "metadata": {
        "colab": {
          "base_uri": "https://localhost:8080/",
          "height": 1000
        },
        "id": "3rtmNgkkKw2e",
        "outputId": "c4d82d47-cf2d-494e-a0ef-78a7e0bfb4ea"
      },
      "execution_count": null,
      "outputs": [
        {
          "output_type": "display_data",
          "data": {
            "text/plain": [
              "\n",
              "Call:\n",
              "lm(formula = Math ~ tutoring_program + lesson_completion_rate, \n",
              "    data = final_student_level_df)\n",
              "\n",
              "Residuals:\n",
              "     Min       1Q   Median       3Q      Max \n",
              "-0.76050 -0.14325  0.02933  0.19017  0.36814 \n",
              "\n",
              "Coefficients:\n",
              "                       Estimate Std. Error t value Pr(>|t|)    \n",
              "(Intercept)            0.631402   0.006098 103.548   <2e-16 ***\n",
              "tutoring_programYes    0.037331   0.003995   9.344   <2e-16 ***\n",
              "lesson_completion_rate 0.122980   0.008907  13.807   <2e-16 ***\n",
              "---\n",
              "Signif. codes:  0 ‘***’ 0.001 ‘**’ 0.01 ‘*’ 0.05 ‘.’ 0.1 ‘ ’ 1\n",
              "\n",
              "Residual standard error: 0.2196 on 12084 degrees of freedom\n",
              "  (614 observations deleted due to missingness)\n",
              "Multiple R-squared:  0.02265,\tAdjusted R-squared:  0.02249 \n",
              "F-statistic:   140 on 2 and 12084 DF,  p-value: < 2.2e-16\n"
            ]
          },
          "metadata": {}
        },
        {
          "output_type": "display_data",
          "data": {
            "text/plain": [
              "\n",
              "Call:\n",
              "lm(formula = Kiswahili ~ tutoring_program + lesson_completion_rate, \n",
              "    data = final_student_level_df)\n",
              "\n",
              "Residuals:\n",
              "    Min      1Q  Median      3Q     Max \n",
              "-0.8188 -0.1275  0.0612  0.1844  0.3505 \n",
              "\n",
              "Coefficients:\n",
              "                       Estimate Std. Error t value Pr(>|t|)    \n",
              "(Intercept)            0.649533   0.006293 103.216  < 2e-16 ***\n",
              "tutoring_programYes    0.126939   0.004122  30.793  < 2e-16 ***\n",
              "lesson_completion_rate 0.049367   0.009189   5.372 7.92e-08 ***\n",
              "---\n",
              "Signif. codes:  0 ‘***’ 0.001 ‘**’ 0.01 ‘*’ 0.05 ‘.’ 0.1 ‘ ’ 1\n",
              "\n",
              "Residual standard error: 0.2267 on 12098 degrees of freedom\n",
              "  (600 observations deleted due to missingness)\n",
              "Multiple R-squared:  0.07492,\tAdjusted R-squared:  0.07477 \n",
              "F-statistic: 489.9 on 2 and 12098 DF,  p-value: < 2.2e-16\n"
            ]
          },
          "metadata": {}
        },
        {
          "output_type": "display_data",
          "data": {
            "text/plain": [
              "\n",
              "Call:\n",
              "lm(formula = Fluency ~ tutoring_program + lesson_completion_rate, \n",
              "    data = final_student_level_df)\n",
              "\n",
              "Residuals:\n",
              "    Min      1Q  Median      3Q     Max \n",
              "-148.52  -55.43  -10.80   49.43  240.96 \n",
              "\n",
              "Coefficients:\n",
              "                       Estimate Std. Error t value Pr(>|t|)    \n",
              "(Intercept)             115.759      1.954   59.25   <2e-16 ***\n",
              "tutoring_programYes      32.763      1.275   25.70   <2e-16 ***\n",
              "lesson_completion_rate  -30.357      2.839  -10.70   <2e-16 ***\n",
              "---\n",
              "Signif. codes:  0 ‘***’ 0.001 ‘**’ 0.01 ‘*’ 0.05 ‘.’ 0.1 ‘ ’ 1\n",
              "\n",
              "Residual standard error: 69.76 on 11973 degrees of freedom\n",
              "  (725 observations deleted due to missingness)\n",
              "Multiple R-squared:  0.06076,\tAdjusted R-squared:  0.06061 \n",
              "F-statistic: 387.3 on 2 and 11973 DF,  p-value: < 2.2e-16\n"
            ]
          },
          "metadata": {}
        },
        {
          "output_type": "display_data",
          "data": {
            "text/plain": [
              "\n",
              "Call:\n",
              "lm(formula = attendance_records ~ tutoring_program + lesson_completion_rate, \n",
              "    data = final_student_level_df)\n",
              "\n",
              "Residuals:\n",
              "    Min      1Q  Median      3Q     Max \n",
              "-87.527  -6.835   6.276  12.778  47.762 \n",
              "\n",
              "Coefficients:\n",
              "                       Estimate Std. Error t value Pr(>|t|)    \n",
              "(Intercept)             57.5701     0.5337 107.863   <2e-16 ***\n",
              "tutoring_programYes      0.6681     0.3506   1.905   0.0567 .  \n",
              "lesson_completion_rate  40.2210     0.7825  51.400   <2e-16 ***\n",
              "---\n",
              "Signif. codes:  0 ‘***’ 0.001 ‘**’ 0.01 ‘*’ 0.05 ‘.’ 0.1 ‘ ’ 1\n",
              "\n",
              "Residual standard error: 19.76 on 12698 degrees of freedom\n",
              "Multiple R-squared:  0.1725,\tAdjusted R-squared:  0.1724 \n",
              "F-statistic:  1324 on 2 and 12698 DF,  p-value: < 2.2e-16\n"
            ]
          },
          "metadata": {}
        }
      ]
    },
    {
      "cell_type": "markdown",
      "source": [
        "# **Result Interpretation: **\n",
        "\n",
        "**Math Scores**\n",
        "\n",
        "Tutoring Program Impact : Participation in the tutoring program is associated with an increase in math scores by 0.0373 units, with a p-value of  (p < 2e-16), suggesting a positive impact of the program on math outcomes.\n",
        "Lesson Completion Rate Impact : Each unit increase in the lesson completion rate is associated with a 0.1230 unit increase in math scores, also a p-value of (p < 2e-16), suggesting that higher lesson completion rates has a positive effect on math scores.\n",
        "\n",
        "**Kiswahili Scores**\n",
        "\n",
        "Tutoring Program Impact : There is a significant increase in Kiswahii scores by 0.1269 units with a p-value of (p < 2e-16), indicating a strong and equally positive effect of the tutoring program.\n",
        "Lesson Completion Rate Impact : for every increase in lesson completion, there is a small yet significant increase with 0.0494 units in Kiswahii scores\n",
        "\n",
        "**Fluency Scores**\n",
        "\n",
        "Tutoring Program Impact :  The result shows a substantial positive effect between the tutoring program participation, with an increase in fluency scores by 32.763 units, having a p-value of\n",
        "(p < 2e-16).\n",
        "\n",
        "Lesson Completion Rate Impact : Its interesting to observe that for a unit increase in completion rate, there is an associated 30.357 unit reduction in fluency scores, indicating a negative correlation between lesson completion rate and fluency score.\n",
        "\n",
        "**Attendance Records**\n",
        "\n",
        "Tutoring Program Impact : The result suggest a slight non-significant  increase of 0.06681 and a p-value of 0.0567 in attendance associated with the tutoring program.\n",
        "\n",
        "Lesson Completion Rate Impact : The lesson completion rate has a significant positive association with attendance record. For every increase in lesson completion, there is a 40.221 unit increase in attendance records.\n",
        "\n",
        "# **Overall Interpretation**\n",
        "\n",
        "Academic Outcomes : The tutoring program has a statistically significant positive impact on math and Kiswahili scores, with a particularly strong effect on fluency scores. This tells us that the tutoring program successfully enhances academic performance in these subjects.\n",
        "Lesson Completion Rates : The positive association with math and Kiswahili scores and attendance records indicates that lesson completion rates play a crucial role in academic and attendance outcomes.\n",
        "The negative association with fluency scores is unexpected and should warrants further investigation to understand the underlying reasons.\n",
        "Attendance : The tutoring program's marginal effect on attendance records suggests that while the program may slightly increase attendance, its primary benefits are observed in academic performance improvements.\n"
      ],
      "metadata": {
        "id": "lJhsdHoSXcG8"
      }
    },
    {
      "cell_type": "code",
      "source": [],
      "metadata": {
        "id": "lKMvYLIt-iKD"
      },
      "execution_count": null,
      "outputs": []
    }
  ]
}